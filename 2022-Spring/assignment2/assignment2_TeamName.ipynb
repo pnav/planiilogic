{
 "cells": [
  {
   "cell_type": "markdown",
   "metadata": {
    "id": "dAqwo9V-Md3T"
   },
   "source": [
    "# Assignment 2\n",
    "### Target date: Thursday 2/17/22 11:59pm (+5 points)\n",
    "### Due date: Sunday 2/20/22 11:59pm"
   ]
  },
  {
   "cell_type": "markdown",
   "metadata": {
    "id": "6LwIWEpZMpC5"
   },
   "source": [
    "**Instructions:**  Complete your answers to the questions below by double-clicking on each box and writing your answers. Use \"Shift-Return\" to store your new in each answer box. Feel free to add additional notebook cells as you develop your answers. To submit, download the notebook (as .ipynb), change the file name to your team name, then upload the file to Canvas on the Assignment page. That's it!\n",
    "\n",
    "**NOTE:** You only need to upload one notebook for your group, but ***each*** group member should complete the peer evaluation. All peer evaluation feedback will remain anonymous.\n",
    "\n",
    "---\n"
   ]
  },
  {
   "cell_type": "markdown",
   "metadata": {
    "id": "M3U7p-nmNHb9"
   },
   "source": [
    "**Question 1** \n",
    "\n",
    "In Assignment 1, you created a looping solution to calculate the *n*th number in the *Wettlaufer* series (a Fibonacci-like sequence with genotype (1,11)). Thus, the phenotype of the Wettlaufer series is `1 11 12 23 35 ...`.\n",
    "\n",
    "First, you will create a recursive solution to compute the *n*th Wettlaufer number. Notice how this solution differs from the looping solution from Assignment 1. The testing notebook cell uses the Python `time` package to measure the duration of each Wettlaufer calcuation. \n",
    "\n",
    "*Ponderable:* Notice how the calculation duration changes dramatically as the value of *n* increases? Why?\n",
    "\n",
    "The recursive solution is elegant but inefficient, particularly for large values of *n*. To reduce the calculation time, you will implement a new function `cached_wettlaufer` that stores the intermediate results of Wettlaufer calculations in a global dictionary. This cache trades a small amount of extra memory and bookkeeping for a large improvement in runtime efficiency. Notice the duration difference between the cached version and the uncached version.\n",
    "\n",
    "*Ponderable:* why is it easier to use a dictionary for the global cache rather than a list?\n",
    "\n",
    "The cells below have been started for you. Find and replace the ellipses '...' with your code that implements each solution. \n",
    "\n",
    "**Concepts:** function definition, recursion, function efficiency, caching, dictionary, test cells, package import\n"
   ]
  },
  {
   "cell_type": "code",
   "execution_count": null,
   "metadata": {
    "id": "5EDCKEvPMyj-"
   },
   "outputs": [],
   "source": [
    "def wettlaufer(n):\n",
    "    if n == 1:\n",
    "        return 1\n",
    "    elif n == 2:\n",
    "        return 11\n",
    "    else:\n",
    "        return ..."
   ]
  },
  {
   "cell_type": "code",
   "execution_count": null,
   "metadata": {
    "id": "kOvU555dbnbV"
   },
   "outputs": [],
   "source": [
    "from time import time\n",
    "\n",
    "# tests for wettlaufer\n",
    "n = 5       # result = 35 ( < 1 sec )\n",
    "#n = 10      # result = 395 ( < 1 sec )\n",
    "#n = 20      # result = 48575 ( < 1 sec )\n",
    "#n = 30      # result = 5974330 ( < 1 sec )\n",
    "#n = 40      # result = 734794015 ( ~34 sec )\n",
    "#n = 50      # result = 90373689515 ( > 1 hour! )\n",
    "\n",
    "\n",
    "start = time()\n",
    "result = wettlaufer(n)\n",
    "end = time()\n",
    "\n",
    "print(f'the {n}th Wettlaufer number is {result} (took {end-start:.0f} seconds)')"
   ]
  },
  {
   "cell_type": "code",
   "execution_count": null,
   "metadata": {
    "id": "7uX7vJVvSGAB"
   },
   "outputs": [],
   "source": [
    "w_cache={}\n",
    "def cached_wettlaufer(n):\n",
    "    if ...:\n",
    "        if n == 1:\n",
    "            ...\n",
    "        elif n == 2:\n",
    "            ...\n",
    "        else:\n",
    "            ...\n",
    "    return w_cache[n]"
   ]
  },
  {
   "cell_type": "code",
   "execution_count": null,
   "metadata": {
    "id": "-sO7VA_iQadE"
   },
   "outputs": [],
   "source": [
    "from time import time\n",
    "\n",
    "# tests for cached_wettlaufer\n",
    "# tests for wettlaufer\n",
    "n = 5       # result = 35 ( < 1 sec )\n",
    "#n = 10      # result = 395 ( < 1 sec )\n",
    "#n = 20      # result = 48575 ( < 1 sec )\n",
    "#n = 30      # result = 5974330 ( < 1 sec )\n",
    "#n = 40      # result = 734794015 ( < 1 sec )\n",
    "#n = 50      # result = 90373689515 ( < 1 sec )\n",
    "#n = 100     # result = 2543454806524813605335 ( < 1 sec )\n",
    "#n = 1000    # result = ???  ( < 1 sec )\n",
    "\n",
    "start = time()\n",
    "result = cached_wettlaufer(n)\n",
    "end = time()\n",
    "\n",
    "print(f'the {n}th Wettlaufer number is {result} (took {end-start:.0f} seconds)')"
   ]
  },
  {
   "cell_type": "markdown",
   "metadata": {
    "id": "63W5SP_mNbZc"
   },
   "source": [
    "**Question 2** \n",
    "\n",
    "In *GEB* Chapter 4, Hofstadter introduced the *FIGURE-FIGURE* series to illustrate the notion of explicit versus implicit aspects of a system and how they can interact to define overall system behavior. Hofstadter started the explicit part of the series: \n",
    "\n",
    "```\n",
    "1 3 7 12 18 26 35 45 56 69 ...\n",
    "```\n",
    "\n",
    "In class, we discussed the implicit part of the series and how to calculate the next explicit series members. You should use that insight for this solution. For this question, you will implement:\n",
    "- a loop that computes the implicit series for a given explicit series; and\n",
    "- a function that uses the explicit and implicit lists as a starting point to compute and return the *n*th number of the explicit series.\n",
    "\n",
    "The cell below has been started for you. Find the `TODO` comments and replace the ellipses '...' with your code that implements each solution. \n",
    "\n",
    "**Concepts:** lists, list append, while loops, for loops, function definition, calling functions, using multiple cells in a notebook, test cases\n"
   ]
  },
  {
   "cell_type": "code",
   "execution_count": null,
   "metadata": {
    "id": "SgB8nAPdNhMX"
   },
   "outputs": [],
   "source": [
    "def figure_figure(n):\n",
    "    explicit = [1, 3, 7, 12, 18, 26, 35, 45, 56, 69]\n",
    "    implicit = []\n",
    "\n",
    "    # TODO: calculate the implicit series for the given explicit series\n",
    "    for i in ...:\n",
    "        ...\n",
    "\n",
    "    # TODO: using the explicit and implicit lists, calculate up to the nth explicit value\n",
    "    while ...:\n",
    "        ...\n",
    "\n",
    "    return ...\n"
   ]
  },
  {
   "cell_type": "code",
   "execution_count": null,
   "metadata": {
    "id": "JMaKrJvqXhHM"
   },
   "outputs": [],
   "source": [
    "# testing figure_figure\n",
    "\n",
    "n = 5       # the 5th explicit number is 18\n",
    "#n = 10      # the 10th explicit number is 69\n",
    "#n = 15      # the 15th explicit number is 150\n",
    "#n = 20      # the 20th explicit number is 260\n",
    "#n = 50      # the 50th explicit number is 1509\n",
    "#n = 100     # the 100th explicit number is 5764\n",
    "\n",
    "print(f'the {n}th explicit number is {figure_figure(n)}')"
   ]
  },
  {
   "cell_type": "markdown",
   "metadata": {
    "id": "CkCJZr-4Nh_L"
   },
   "source": [
    "**Question 3** \n",
    "\n",
    "Here is your first \"real\" coding assignment! Based on your experience in this class, the New York Times has hired you as a summer intern (!) to help develop new editions of their [Spelling Bee](https://www.nytimes.com/puzzles/spelling-bee) puzzle. Here are the rules to Spelling Bee:\n",
    "\n",
    "* How to Play Spelling Bee - Create words using letters from the \"hive\"!\n",
    "    - Words must contain at least 4 letters.\n",
    "    - Words must include the 'center' letter. \n",
    "    - Letters of the 'beehive' can be used more than once.\n",
    "\n",
    "* How words are scored:\n",
    "    - Words shorter than 4 letters are 0 points.\n",
    "    - Words that use letters not in the 'beehive' are 0 points.\n",
    "    - Words that do not use the 'center' letter are 0 points.\n",
    "    - Valid 4-letter words are worth 1 point each.\n",
    "    - Valid words longer than 4 letters earn 1 point per letter.\n",
    "    - A word that uses all 7 letters of the beehive earns 7 bonus points (a 'pangram').\n",
    "\n",
    "The puzzle editors will give you a word list (in this case, over 200,000 words from a subset of Webster's Second International dictionary) and ask you to generate some puzzle candidates and their scoring statistics. To do this, you will need to determine several things: how to obtain the word list; how to score a word for a given puzzle configuration (i.e., the 'beehive' letter set and center letter); how to extract candidate puzzle anchor words ('pangram' words) that define the 'beehive' set for a puzzle; and how to rate the quality of a candidate 'beehive' set by determining the highest score and its word count for each possible center letter of the beehive set. n.b.: the highest score might not have the highest word count (but usually does), so return the count associated with the high score, don't consider the count separately. You will also create a function to calculate a random sample of a given word list in order to create unbiased test sets more efficiently.\n",
    "\n",
    "Challenges:\n",
    "- Complete the definition of `get_words` so that proper nouns (i.e., capitalized words) are excluded from the returned word list if the argument `remove_proper` is `True`.\n",
    "- Complete the definition of `score_word` so that it returns the score for a given word using a given beehive letter-set and center letter.\n",
    "- Complete the definition of `candidate_words` so that it returns a list of all words from a given word list that meet the necessary criterion for a 'beehive' set, namely that the word uses exactly 7 letters (repeated letters are okay).\n",
    "- Complete the definition of `sample_words` so that for a given word list, it returns a sublist with length that is approximately the given percentage of the given list. Build the sublist by randomly sampling the given list. Due to this random sampling, the words in your sublist will likely change each time you call sample_words, and depending on your implementation, the exact number of words can also change. This is okay so long as the requested percentage of the list is returned _on average_.\n",
    "- Complete the definition of `score_candidate` so that for a given candidate word and word list, it returns the score and found word count for each possible center letter of the 'beehive' for the given candidate word. Your solution should use the functions you implemented in the previous steps.\n",
    "\n",
    "\n",
    "The cells below have been started for you. Find the `TODO` comments and replace the ellipses '...' with your code that implements each solution. \n",
    "\n",
    "**Concepts:** downloading data, sampling data, defining functions,subdividing work across multiple functions, comprehensions, lists, sets, dictionaries, tuples, package import, unit testing\n",
    "\n",
    "*Ponderable:* how would you use these functions to find the highest scoring and lowest scoring game option (beehive + center letter) for a given word list? If you try this, use sample_words to reduce the list considered (I recommend 1% of the full list), otherwise your program will run for a _long_ time!\n"
   ]
  },
  {
   "cell_type": "code",
   "execution_count": null,
   "metadata": {
    "id": "I_cD8ooUNFDy"
   },
   "outputs": [],
   "source": [
    "# the requests package is availble on Google Colab, \n",
    "# for local install, you might need to do `python3 -m pip install requests`\n",
    "import requests\n",
    "\n",
    "def get_words(remove_proper=True) -> list:\n",
    "    \"\"\" download Webster's Second International dictionary word list \"\"\"\n",
    "    url=\"https://pages.tacc.utexas.edu/~pnav/tc310/words\"\n",
    "    connect_timeout, read_timeout = 5.0, 30.0\n",
    "    req = requests.get(url, timeout=(connect_timeout, read_timeout))\n",
    "    words = []\n",
    "    if req.status_code == requests.codes.ok:\n",
    "        words = req.text.strip().split('\\n')\n",
    "    else:\n",
    "        # if you see this message, please let Paul know!\n",
    "        print(f\"TC310: ERROR - {url} returned unexpected code {req.status_code}\")\n",
    "        req.raise_for_status()\n",
    "    if not words:\n",
    "        print(\"TC310: ERROR - words list is blank!\")\n",
    "        raise ValueError(\"word list is blank\")\n",
    "    else:\n",
    "        # TODO: remove proper nouns\n",
    "        if remove_proper:\n",
    "            ...\n",
    "    return words"
   ]
  },
  {
   "cell_type": "code",
   "execution_count": null,
   "metadata": {
    "id": "F__O38TwKKQ8"
   },
   "outputs": [],
   "source": [
    "# test for get_words\n",
    "# with proper nouns - 235585 words\n",
    "# without propoer nouns - 210397 words\n",
    "\n",
    "words = get_words(remove_proper=False)\n",
    "print(f\"get_words returned {len(words)} words\")\n",
    "\n",
    "words = get_words()\n",
    "print(f\"get_words returned {len(words)} words\")"
   ]
  },
  {
   "cell_type": "code",
   "execution_count": null,
   "metadata": {
    "id": "8WqKVBsoh5DW"
   },
   "outputs": [],
   "source": [
    "def score_word(word, beehive, center) -> int:\n",
    "    \"\"\" return a score for the given word and the 'beehive' letter set \n",
    "        assuming the given center letter\n",
    "        0   - if not a valid word for the (beehive, center) combo\n",
    "        1   - if valid and four letters long\n",
    "        n   - if valid and n letters long, where n > 4\n",
    "        n+7 - if valid and n letters long where all 7 beehive letters are used\n",
    "    \"\"\"\n",
    "    # TODO: calculate the score\n",
    "    letters = ...\n",
    "    if ...:\n",
    "        return 0\n",
    "    elif ...:\n",
    "        return 1\n",
    "    elif ...\n",
    "        return ...\n",
    "    else:\n",
    "        return ..."
   ]
  },
  {
   "cell_type": "code",
   "execution_count": null,
   "metadata": {
    "id": "cZQgOB4VkxEU"
   },
   "outputs": [],
   "source": [
    "# tests for score_word\n",
    "beehive = set('complete')\n",
    "center = 't'\n",
    "valid_words = ['complete', 'clot', 'collect', 'colt', 'compote', 'elect', 'electee', 'locomote', 'omelet', 'omelette']\n",
    "invalid_words = ['brick', 'clomp', 'cot', 'mop', 'mope']\n",
    "\n",
    "valid_scores = [ score_word(w,beehive,center) for w in valid_words ]\n",
    "invalid_scores = [ score_word(w,beehive,center) for w in invalid_words ]\n",
    "\n",
    "# should print \"valid scores: [15, 1, 7, 1, 7, 5, 7, 8, 6, 8]\"\n",
    "print(f\"valid scores: {valid_scores}\")\n",
    "\n",
    "# should print \"invalid scores: [0, 0, 0, 0, 0]\"\n",
    "print(f\"invalid scores: {invalid_scores}\")\n"
   ]
  },
  {
   "cell_type": "code",
   "execution_count": null,
   "metadata": {
    "id": "HvPfWyTOgsJV"
   },
   "outputs": [],
   "source": [
    "def get_candidates(words) -> list:\n",
    "    # find all possible candidate words\n",
    "    candidates = []\n",
    "    for ...:\n",
    "        letters = ...\n",
    "        if ...:\n",
    "            ...\n",
    "    return candidates\n"
   ]
  },
  {
   "cell_type": "code",
   "execution_count": null,
   "metadata": {
    "id": "h3L3wbdmos-c"
   },
   "outputs": [],
   "source": [
    "# tests for get_candidates\n",
    "words = get_words()\n",
    "candidates = get_candidates(words)\n",
    "\n",
    "# should find 40269 candidates\n",
    "print(f'found {len(candidates)} candidates')\n",
    "\n",
    "# should print \"the first ten are: ['aardwolf', 'abacinate', 'abacination', 'abactinal', 'abaction', 'abaisance', 'abalienate', 'abandonable', 'abandoner', 'abasedly']\"\n",
    "print(f'the first ten are: {[ c for c in candidates[:10] ]}')\n",
    "\n",
    "# should print \"the last ten are: ['zygotene', 'zygotic', 'zygotoid', 'zymogen', 'zymogene', 'zymolyis', 'zymolysis', 'zymometer', 'zymotic', 'zymotize']\"\n",
    "print(f'the last ten are: {[ c for c in candidates[-10:] ]}')"
   ]
  },
  {
   "cell_type": "code",
   "execution_count": null,
   "metadata": {
    "id": "nmRhvjb5N3_D"
   },
   "outputs": [],
   "source": [
    "from random import random \n",
    "\n",
    "def sample_words(words, percent) -> list:\n",
    "    \"\"\" for a given word list, \n",
    "        create a subset with the given percentage of words \n",
    "    \"\"\"\n",
    "    sample = []\n",
    "    # TODO: add word to sample if random() < percent\n",
    "    ...\n",
    "    return sample"
   ]
  },
  {
   "cell_type": "code",
   "execution_count": null,
   "metadata": {
    "id": "tlvrhF9ItzVo"
   },
   "outputs": [],
   "source": [
    "# tests for sample_words\n",
    "words = ['complete', 'clot', 'collect', 'colt', 'compote', 'elect', 'electee', \n",
    "         'locomote', 'melt', 'mettle', 'omelet', 'omelette', 'pellet', 'plot', \n",
    "         'telecom', 'tell', 'temple', 'tempo', 'tempt', 'toll']\n",
    "#words = get_words()\n",
    "\n",
    "ten_percent    = sample_words(words, .1)\n",
    "twenty_percent = sample_words(words, .2)\n",
    "fifty_percent  = sample_words(words, .5)\n",
    "\n",
    "print(f'out of {len(words)} total words:')\n",
    "\n",
    "# should contain _approximately_ 2 words for word list\n",
    "# should contain _approximately_ 21K words for get_words\n",
    "print(f'\\tthe 10% sample has {len(ten_percent)} words')\n",
    "\n",
    "# should contail _approximately_ 4 words for word list\n",
    "# should contain _approximately_ 42K words for get_words\n",
    "print(f'\\tthe 20% sample has {len(twenty_percent)} words')\n",
    "\n",
    "# should contain _approximately_ 10 words for word list\n",
    "# should contain _approximately_ 105K words for get_words\n",
    "print(f'\\tthe 50% sample has {len(fifty_percent)} words')"
   ]
  },
  {
   "cell_type": "code",
   "execution_count": null,
   "metadata": {
    "id": "LWYy8ZgggsqC"
   },
   "outputs": [],
   "source": [
    "def score_candidate(candidate, words) -> (dict, dict):\n",
    "    \"\"\" for this candidate word, scan the word list to determine \n",
    "        scoring and word count for each possible center letter\n",
    "    \"\"\"\n",
    "    beehive = ...\n",
    "    # track score for each central letter\n",
    "    # TODO: use a comprehension to create zero counters for each letter\n",
    "    scores = { ... }     \n",
    "    counts = { ... }\n",
    "    # TODO: for each word calculate a score and add it to the trackers\n",
    "    for ...:\n",
    "        for ...:\n",
    "            ...\n",
    "    return scores, counts"
   ]
  },
  {
   "cell_type": "code",
   "execution_count": null,
   "metadata": {
    "colab": {
     "base_uri": "https://localhost:8080/"
    },
    "id": "oHcfgGe2xA4O",
    "outputId": "649e1bdc-ed16-4a91-ab86-2e69cd8a2d3b"
   },
   "outputs": [],
   "source": [
    "# tests for score_candidate\n",
    "\n",
    "words = get_words()\n",
    "\n",
    "# scores: {'r': 2046, 'e': 1931, 'a': 1595, 'n': 1482, 'f': 818, 't': 2049, 'o': 1183}\n",
    "# counts: {'r': 374, 'e': 347, 'a': 300, 'n': 268, 'f': 151, 't': 377, 'o': 221}\n",
    "candidate = 'afternote'\n",
    "\n",
    "# scores: {'e': 1617, 'n': 1367, 's': 1146, 'f': 507, 't': 1296, 'd': 899, 'i': 1354}\n",
    "# counts: {'e': 285, 'n': 221, 's': 190, 'f': 82, 't': 215, 'd': 150, 'i': 228}\n",
    "#candidate = 'definiteness'\n",
    "\n",
    "# scores: {'r': 1553, 'p': 951, 'e': 1413, 'a': 1214, 'm': 956, 'g': 837, 'i': 874}\n",
    "# counts: {'r': 295, 'p': 179, 'e': 262, 'a': 242, 'm': 178, 'g': 156, 'i': 167}\n",
    "#candidate = 'epigram'\n",
    "\n",
    "# scores: {'r': 831, 'e': 764, 'b': 505, 'i': 505, 'o': 587, 'c': 502, 'm': 524}\n",
    "# counts: {'r': 169, 'e': 155, 'b': 102, 'i': 105, 'o': 125, 'c': 96, 'm': 111}\n",
    "#candidate = 'microbe'\n",
    "\n",
    "# scores: {'r': 1774, 'p': 1270, 'e': 1875, 'a': 1788, 'b': 1281, 'l': 1692, 'i': 1182}\n",
    "# counts: {'r': 317, 'p': 221, 'e': 333, 'a': 330, 'b': 219, 'l': 304, 'i': 221}\n",
    "#candidate = 'repairable'\n",
    "\n",
    "scores, counts = score_candidate(candidate, words)\n",
    "print(f\"scores: {scores}\")\n",
    "print(f\"counts: {counts}\")"
   ]
  }
 ],
 "metadata": {
  "colab": {
   "name": "assignment2_TeamName.ipynb",
   "provenance": []
  },
  "kernelspec": {
   "display_name": "Python 3 (ipykernel)",
   "language": "python",
   "name": "python3"
  },
  "language_info": {
   "codemirror_mode": {
    "name": "ipython",
    "version": 3
   },
   "file_extension": ".py",
   "mimetype": "text/x-python",
   "name": "python",
   "nbconvert_exporter": "python",
   "pygments_lexer": "ipython3",
   "version": "3.8.12"
  }
 },
 "nbformat": 4,
 "nbformat_minor": 4
}
