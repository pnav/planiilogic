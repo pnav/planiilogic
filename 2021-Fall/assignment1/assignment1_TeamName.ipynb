{
 "cells": [
  {
   "cell_type": "markdown",
   "metadata": {
    "id": "XfoseXLUYZds"
   },
   "source": [
    "# Assignment 1\n",
    "### Target date: Thursday 9/9/21 11:59pm (+5 points)\n",
    "### Due date: Sunday 9/12/21 11:59pm"
   ]
  },
  {
   "cell_type": "markdown",
   "metadata": {
    "id": "Jnig7fOPZEIS"
   },
   "source": [
    "**Instructions:**  Complete your answers to the questions below by double-clicking on each box and writing your answers. Use \"Shift-Return\" to store your new in each answer box. Feel free to add additional notebook cells as you develop your answers. To submit, download the notebook (as .ipynb), change the file name to your team name, then upload the file to Canvas on the Assignment page. That's it!\n",
    "\n",
    "**NOTE:** You only need to upload one notebook for your group, but ***each*** group member should complete the peer evaluation. All peer evaluation feedback will remain anonymous.\n",
    "\n",
    "---\n"
   ]
  },
  {
   "cell_type": "markdown",
   "metadata": {
    "id": "qBIjhubnZ5Me"
   },
   "source": [
    "**Question 1** \n",
    "\n",
    "In GEB Chapter 1, Hofstadter presents **MIU** strings and rules to operate on them. For a given **MIU** string *miu_str*, write a logical statement for each **MIU** rule that evaluates to *True* if the **MIU** rule can be applied to the string and to *False* otherwise. If the logical statement evaluates to *True*, print that the **MIU** rule can be applied and its result; if *False* print that the **MIU** rule cannot be applied. \n",
    "\n",
    "The cells below have been started for you. Replace the ellipses '...' with your code that implements each solution. To verify each rule, change the contents of *miu_str* to test various **MIU** strings. Your solution should be generalized so that it works correctly for any **MIU** string assigned to *miu_str* without changing the rest of your code.\n",
    "\n",
    "**Concepts:** variable assignment, variable equality, string indexing, string search, substring extraction, printing, printing using variables\n",
    "\n",
    "*Ponderable:* can you find a example **MIU** string derived from **MI** for each rule where the rule cannot be applied?"
   ]
  },
  {
   "cell_type": "code",
   "execution_count": null,
   "metadata": {
    "id": "tZlGk-CAbSTS"
   },
   "outputs": [],
   "source": [
    "miu_str = \"MI\"\n",
    "\n",
    "# check Rule I: If you posses a string whose last letter is 'I', you can add on a 'U' at the end.\n",
    "if (...): \n",
    "  new_miu_str = ... \n",
    "  print(f\"Rule I can be applied to '{miu_str}' to make '{new_miu_str}'\")\n",
    "else:\n",
    "  print(f\"Rule I cannot be applied to '{miu_str}'\")\n",
    "\n"
   ]
  },
  {
   "cell_type": "code",
   "execution_count": null,
   "metadata": {
    "id": "np5M5jeRcjNK"
   },
   "outputs": [],
   "source": [
    "miu_str = \"MIU\"\n",
    "\n",
    "# check Rule II: Suppose you have 'Mx'. Then you may add 'Mxx' to your collection.\n",
    "if (...):\n",
    "  new_miu_str = ...\n",
    "  print(f\"Rule II can be applied to '{miu_str}' to make '{new_miu_str}'\")\n",
    "else:\n",
    "  print(f\"Rule II cannot be applied to '{miu_str}'\")"
   ]
  },
  {
   "cell_type": "code",
   "execution_count": null,
   "metadata": {
    "id": "H-3rHEP6dMQT"
   },
   "outputs": [],
   "source": [
    "miu_str = \"MIIIIU\"\n",
    "\n",
    "# check Rule III: If 'III' occurs in one of the strings in your collection, you may make a new string with 'U' in place of 'III'.\n",
    "if (...): \n",
    "  new_miu_str = ...\n",
    "  print(f\"Rule III can be applied to '{miu_str}' to make '{new_miu_str}'\")\n",
    "else:\n",
    "  print(f\"Rule III cannot be applied to '{miu_str}'\")"
   ]
  },
  {
   "cell_type": "code",
   "execution_count": null,
   "metadata": {
    "id": "rU6OUintfL9H"
   },
   "outputs": [],
   "source": [
    "miu_str = \"MUUUIII\"\n",
    "\n",
    "# check Rule IV: If 'UU' occurs inside one of your stirngs, you can drop it.\n",
    "if (...):\n",
    "  new_miu_str = ...\n",
    "  print(f\"Rule IV can be applied to '{miu_str}' to make '{new_miu_str}'\")\n",
    "else:\n",
    "  print(f\"Rule IV cannot be applied to '{miu_str}'\") "
   ]
  },
  {
   "cell_type": "markdown",
   "metadata": {
    "id": "WdRtAG0EaNO8"
   },
   "source": [
    "**Question 2**\n",
    "\n",
    "In GEB Chapter 2, Hofstadter presents the pq-system. For a given hyphen string *x*, and a candidate theorem string *t_maybe*, construct a loop that uses the pq-system rule of inference to determine if *t_maybe* is a theorem that can be derived from the axiom using *x*. Print a congratulatory success message if *t_maybe* can be derived using *x*, and a consolatory failure message if not.\n",
    "\n",
    "The cell below have been started for you. Replace the ellipses '...' with your code that implements the solution. To verify your solution, uncomment each test and re-run the cell to verify you receive the success or failure message.  Your solution should be generalized so that it works correctly for each test case without changing the rest of your code.\n",
    "\n",
    "**Concepts:** string length, string concatination, while loop, nested logic, iteration variables, variable value updates, loop termination condition, test cases, code comments\n",
    "\n"
   ]
  },
  {
   "cell_type": "code",
   "execution_count": null,
   "metadata": {
    "id": "KAs6XLU37vGZ"
   },
   "outputs": [],
   "source": [
    "x, t_maybe = '--', '--p-q---'       # test 1 - success\n",
    "#x, t_maybe = '-', '-p----q-----'  # test 2 - success\n",
    "#x, t_maybe = '--', '-p--q---'     # test 3 - failure\n",
    "#x, t_maybe = '---', '---p--q----' # test 4 - failure\n",
    "#x, t_maybe = '--', '--p--q-----'  # test 5 - failure\n",
    "\n",
    "# hint: use the 'y' and 'z' to build the axiom and construct theorems\n",
    "y = ...  # for axiom\n",
    "z = ...  # for axiom\n",
    "t = ...  # construct axiom string\n",
    "\n",
    "# hint: no need to derive theorems longer than the candidate theorem t_maybe\n",
    "found = False\n",
    "while ... :\n",
    "  if ... :\n",
    "    found = True\n",
    "    break\n",
    "  # hint: update y and z using the rule of inference and construct a new theorem\n",
    "  y = ...\n",
    "  z = ...\n",
    "  t = ...\n",
    "\n",
    "if found:\n",
    "  print(f\"huzzah! '{t_maybe}' can be derived from '{x}'\")\n",
    "else:\n",
    "  print(f\"womp womp. '{t_maybe}' cannot be derived from '{x}'\")  "
   ]
  },
  {
   "cell_type": "markdown",
   "metadata": {
    "id": "OuAzjvyjGcnq"
   },
   "source": [
    "**Question 3**\n",
    "\n",
    "In GEB Chapter 3, Hofstadter presents the tq-system. Encode a decision procedure the tq-system that checks whether a given candidate theorem string *t_maybe* is a valid theorem of the tq-system. Print a congratulatory success message if *t_maybe* is a valid tq-system theorem, and a consolatory failure message if not.\n",
    "\n",
    "The cell below have been started for you. Replace the ellipses '...' with your code that implements the solution. To verify your solution, uncomment each test and re-run the cell to verify you receive the success or failure message.  Your solution should be generalized so that it works correctly for each test case without changing the rest of your code.\n",
    "\n",
    "**Concepts:** string parsing, string length, test cases, code comments"
   ]
  },
  {
   "cell_type": "code",
   "execution_count": null,
   "metadata": {
    "id": "YQVu1zi5Hqrh"
   },
   "outputs": [],
   "source": [
    "t_maybe = '--t-q--'             # test 1 - valid\n",
    "#t_maybe = '---t--q------'      # test 2 - valid\n",
    "#t_maybe = '-t-----q---'        # test 3 - invalid\n",
    "#t_maybe = '---t---q----------' # test 4 - invalid\n",
    "#t_maybe = '--t----q--------'   # test 5 - valid\n",
    "\n",
    "# hint: use the tq-system isomorphism to validate t_maybe\n",
    "x = ...\n",
    "y = ...\n",
    "z = ...\n",
    "if ... : \n",
    "  print(f\"joy! '{t_maybe}' is a valid tq-system theorem!\")\n",
    "else:\n",
    "  print(f\"sadness. '{t_maybe}' is not a valid tq-system theorem.\")"
   ]
  },
  {
   "cell_type": "markdown",
   "metadata": {
    "id": "LYNmys-DJroj"
   },
   "source": [
    "**Question 4**\n",
    "\n",
    "In GEB Chapter 2, Hofstadter presented a variant of Euclid's proof that there are infinitely many prime numbers (a number divisible only by 1 and itself). Write two loops, one that for a given *n* computes *n!* and one that checks whether the resulting *n! + 1* is prime. If *n! + 1* is prime, print a message stating so. If it is not prime, print the divisors found as you find them.\n",
    " \n",
    "The cell below have been started for you. Replace the ellipses '...' with your code that implements the solution. To verify your solution, uncomment each test and re-run the cell to verify you receive the success or failure message.  Your solution should be generalized so that it works correctly for each test case without changing the rest of your code.\n",
    "\n",
    "**Concepts:** for loop, range() function, iteration variable, variable accumulation, modulo\n",
    "\n",
    "*Ponderable:* what is the next value of *n* that results in a prime number? how could you change your solution to find it?"
   ]
  },
  {
   "cell_type": "code",
   "execution_count": null,
   "metadata": {
    "id": "IBGYp6VWJ_7o"
   },
   "outputs": [],
   "source": [
    "n = 2  # test  1 - prime\n",
    "#n = 3  # test  2 - prime\n",
    "#n = 4  # test  3 - not prime, one divisor\n",
    "#n = 5  # test  4 - not prime, one divisor\n",
    "#n = 6  # test  5 - not prime, two divisors\n",
    "\n",
    "# hint: use range() to compute n_bang (n!)\n",
    "n_bang = ...\n",
    "for i in range(...):\n",
    "  n_bang = ...\n",
    "\n",
    "# hint: use range() to help perform Euclid's proof\n",
    "prime = True\n",
    "for i in range(...):\n",
    "  if ... :\n",
    "    print(f\"{i} is a divisor of {n_bang+1}\")\n",
    "    prime = False\n",
    "\n",
    "if prime:\n",
    "  print(f\"wow! {n_bang+1} is prime!\")"
   ]
  },
  {
   "cell_type": "markdown",
   "metadata": {
    "id": "MfNaWAMxTfIs"
   },
   "source": [
    "**Question 5**\n",
    "\n",
    "In GEB Chapter 5, Hofstadter describes the Fibonacci and Lucas sequences. Let us define a *Wettlaufer* sequence as having the short genotype (1,11). Thus, the phenotype of this sequence would be: 1, 11, 12, 23, .... Write a loop that can produce the *nth* element of our Wettlaufer sequence phenotype (defined as *w*) for a given value of *n*. In the cells below, demonstrate that your general solution can successfully produce the 10th, 50th, and 100th element of the Wettlaufer sequence.\n",
    "\n",
    "The cell below have been started for you. Replace the ellipses '...' with your code that implements the solution. To verify your solution, uncomment each test and re-run the cell to verify you receive the correct Wettlaufer number.  Your solution should be generalized so that it works correctly for each test case without changing the rest of your code.\n",
    "\n",
    "**Concepts:** if-else statement, for loop, range() function, iteration variable, variable accumulation, temporary variables, left-hand value, right-hand value, variable evaluation order in assignment\n",
    "\n",
    "*Ponderable:* how many digits does the 1000th Wettlaufer number have? the 10000th? the millionth? how could you change your solution to find them?\n"
   ]
  },
  {
   "cell_type": "code",
   "execution_count": null,
   "metadata": {
    "id": "XRfgZNskULaS"
   },
   "outputs": [],
   "source": [
    "n = 5     # w = 35\n",
    "#n = 8    # w = 151\n",
    "#n = 10   # w = 395\n",
    "#n = 50   # w = 90373689515\n",
    "#n = 100  # w = 2543454806524813605335 \n",
    "#n = 1000 # w = ???\n",
    "\n",
    "if n == 1:\n",
    "  w = 1\n",
    "elif n == 2:\n",
    "  w = 11\n",
    "else:\n",
    "  # hint: use accumulation variables to track the last two Wettlaufer numbers\n",
    "  w_p = 1  # previous Wettlaufer number\n",
    "  w   = 11 # current Wettlaufer number\n",
    "  for i in range(...):\n",
    "    # hint: use a temporary variable to 'remember' the current value of w\n",
    "    temp = w\n",
    "    w = ...\n",
    "    w_p = ...\n",
    "\n",
    "print(f\"For n = {n}, w = {w}\")"
   ]
  }
 ],
 "metadata": {
  "colab": {
   "name": "assignment1_TeamName.ipynb",
   "provenance": []
  },
  "kernelspec": {
   "display_name": "Python 3 (ipykernel)",
   "language": "python",
   "name": "python3"
  },
  "language_info": {
   "codemirror_mode": {
    "name": "ipython",
    "version": 3
   },
   "file_extension": ".py",
   "mimetype": "text/x-python",
   "name": "python",
   "nbconvert_exporter": "python",
   "pygments_lexer": "ipython3",
   "version": "3.8.10"
  }
 },
 "nbformat": 4,
 "nbformat_minor": 1
}
