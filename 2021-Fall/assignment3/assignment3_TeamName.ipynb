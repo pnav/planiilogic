{
 "cells": [
  {
   "cell_type": "markdown",
   "id": "706b694d",
   "metadata": {},
   "source": [
    "# Assignment 3\n",
    "### Target date: Thursday 10/7/21 11:59pm (+5 points)\n",
    "### Due date: Sunday 10/10/21 11:59pm"
   ]
  },
  {
   "cell_type": "markdown",
   "id": "d427c004",
   "metadata": {},
   "source": [
    "**Instructions:**  Complete your answers to the questions below by double-clicking on each box and writing your answers. Use \"Shift-Return\" to store your new in each answer box. Feel free to add additional notebook cells as you develop your answers. To submit, download the notebook (as .ipynb), change the file name to your team name, then upload the file to Canvas on the Assignment page. That's it!\n",
    "\n",
    "**NOTE:** You only need to upload one notebook for your group, but ***each*** group member should complete the peer evaluation. All peer evaluation feedback will remain anonymous.\n",
    "\n",
    "---"
   ]
  },
  {
   "cell_type": "markdown",
   "id": "c10bc47b",
   "metadata": {},
   "source": [
    "**Question 1** \n",
    "\n",
    "Bob Ross and his PBS program *The Joy of Painting* have enjoyed a resurgence in popularity during the COVID pandemic. Ross's calming voice, painting \"happy little trees\" and assurance that \"there are no mistakes, only happy accidents\" can provide solace in these exceptional times. If you have never experienced *The Joy of Painting*, the full archive is available on YouTube: [The Joy of Painting](https://www.youtube.com/playlist?list=PLAEQD0ULngi67rwmhrkNjMZKvyCReqDV4).\n",
    "\n",
    "In 2014, [Walt Hickey](https://fivethirtyeight.com/contributors/walt-hickey/) at Five Thirty Eight [analyzed every painting](https://fivethirtyeight.com/features/a-statistical-analysis-of-the-work-of-bob-ross/) from every episode of *The Joy of Painting*. For this question, you will use the raw data Hickey created and write Python code to reproduce his statistical analysis.\n",
    "\n",
    "For each part of this question, use the data to collect the raw numbers and then compute the requested probability. This will explore two fundamental concepts of probability theory:\n",
    "\n",
    "* *joint probability* - given the independent probabilities of events **A** and **B**, what is the probability of both **A** *and* **B**? This is calculated by mulitplying the probability of **A** (denoted *P(A)*) times the probability of **B** (denoted *P(B)*): `P(A) x P(B)`\n",
    "* *conditional probability* - given that **A** occurs, how likely is it that **B** *also* occurs? given **A**? This is calculated by dividing the probability of **B** by the probability of **A**: `P(B) / P(A)`\n",
    "\n",
    "\n",
    "The cells below have been started for you. Find and replace the ellipses '...' with your code that implements each solution. \n",
    "\n",
    "**Concepts:** data tabulation, probability calculation, reproducibility\n"
   ]
  },
  {
   "cell_type": "code",
   "execution_count": null,
   "id": "15e895ea",
   "metadata": {},
   "outputs": [],
   "source": [
    "import requests, csv, os\n",
    "\n",
    "# Load the Joy of Painting data\n",
    "if not os.path.exists('elements-by-episode.csv'):\n",
    "    url = \"https://pages.tacc.utexas.edu/~pnav/tc310/elements-by-episode.csv\"\n",
    "    req = requests.get(url)\n",
    "    if req.ok:\n",
    "        with open('elements-by-episode.csv','w') as fp:\n",
    "            fp.write(req.content)\n",
    "    else:\n",
    "        # if you see this message, please let Paul know!\n",
    "        print(f\"TC310: ERROR - {url} returned unexpected code {req.status_code}\")\n",
    "        req.raise_for_status()\n",
    "with open('elements-by-episode.csv',newline='') as fp:\n",
    "    paintings = ...\n",
    "        \n",
    "# should get:\n",
    "# dict_keys(['EPISODE', 'TITLE', 'APPLE_FRAME', 'AURORA_BOREALIS', 'BARN', 'BEACH', 'BOAT', 'BRIDGE', 'BUILDING', 'BUSHES', 'CABIN', 'CACTUS', 'CIRCLE_FRAME', 'CIRRUS', 'CLIFF', 'CLOUDS', 'CONIFER', 'CUMULUS', 'DECIDUOUS', 'DIANE_ANDRE', 'DOCK', 'DOUBLE_OVAL_FRAME', 'FARM', 'FENCE', 'FIRE', 'FLORIDA_FRAME', 'FLOWERS', 'FOG', 'FRAMED', 'GRASS', 'GUEST', 'HALF_CIRCLE_FRAME', 'HALF_OVAL_FRAME', 'HILLS', 'LAKE', 'LAKES', 'LIGHTHOUSE', 'MILL', 'MOON', 'MOUNTAIN', 'MOUNTAINS', 'NIGHT', 'OCEAN', 'OVAL_FRAME', 'PALM_TREES', 'PATH', 'PERSON', 'PORTRAIT', 'RECTANGLE_3D_FRAME', 'RECTANGULAR_FRAME', 'RIVER', 'ROCKS', 'SEASHELL_FRAME', 'SNOW', 'SNOWY_MOUNTAIN', 'SPLIT_FRAME', 'STEVE_ROSS', 'STRUCTURE', 'SUN', 'TOMB_FRAME', 'TREE', 'TREES', 'TRIPLE_FRAME', 'WATERFALL', 'WAVES', 'WINDMILL', 'WINDOW_FRAME', 'WINTER', 'WOOD_FRAMED'])\n",
    "print(paintings[0].keys())"
   ]
  },
  {
   "cell_type": "code",
   "execution_count": null,
   "id": "bc0a3a97",
   "metadata": {},
   "outputs": [],
   "source": [
    "# confirm that 57% of paintings contained a DECIDUOUS tree\n"
   ]
  },
  {
   "cell_type": "code",
   "execution_count": null,
   "id": "1f02d028",
   "metadata": {},
   "outputs": [],
   "source": [
    "# confirm that 53% of paintings contained a CONIFER tree\n"
   ]
  },
  {
   "cell_type": "code",
   "execution_count": null,
   "id": "0d986433",
   "metadata": {},
   "outputs": [],
   "source": [
    "# confirm that for paintings that contained multiple TREES, about 20% had both DECIDUOUS and CONIFER trees\n",
    "# ponderable: how does your data-derived value compare to the computed joint probability? why?\n"
   ]
  },
  {
   "cell_type": "code",
   "execution_count": null,
   "id": "26290238",
   "metadata": {},
   "outputs": [],
   "source": [
    "# What is the probability, given that Ross painted a happy tree, that he then painted a friend for that tree?\n",
    "# i.e., given there is a TREE, how likely are there TREES?\n",
    "# Hickey answer: 93%\n"
   ]
  },
  {
   "cell_type": "code",
   "execution_count": null,
   "id": "e32ae6a6",
   "metadata": {},
   "outputs": [],
   "source": [
    "# What percentage of Bob Ross paintings contain an almighty mountain?\n",
    "# Hickey answer: 39%\n"
   ]
  },
  {
   "cell_type": "code",
   "execution_count": null,
   "id": "2149fa5c",
   "metadata": {},
   "outputs": [],
   "source": [
    "# What percentage of those paintings contain several almighty mountains?\n",
    "# Hickey answer: 60%\n"
   ]
  },
  {
   "cell_type": "code",
   "execution_count": null,
   "id": "6795c1f5",
   "metadata": {},
   "outputs": [],
   "source": [
    "# In what percentage of those paintings is a mountain covered with snow?\n",
    "# i.e., given the painting has a MOUNTAIN, how likely is it a SNOWY_MOUNTAIN?\n",
    "# Hickey answer: 66%\n"
   ]
  },
  {
   "cell_type": "code",
   "execution_count": null,
   "id": "9958da25",
   "metadata": {},
   "outputs": [],
   "source": [
    "# What about footy little hills?\n",
    "# Hickey answer: 4%\n"
   ]
  },
  {
   "cell_type": "code",
   "execution_count": null,
   "id": "9b3a6582",
   "metadata": {},
   "outputs": [],
   "source": [
    "# How about happy little clouds?\n",
    "# Hickey answer: 44%\n"
   ]
  },
  {
   "cell_type": "code",
   "execution_count": null,
   "id": "97b3aa7a",
   "metadata": {},
   "outputs": [],
   "source": [
    "# Given there is are CLOUDS, how likely are they CIRRUS clouds?\n",
    "# Hickey answer: 14%\n"
   ]
  },
  {
   "cell_type": "code",
   "execution_count": null,
   "id": "f02eec51",
   "metadata": {},
   "outputs": [],
   "source": [
    "# Given there is are CLOUDS, how likely are they CUMULUS clouds?\n",
    "# Hickey answer: 47%\n"
   ]
  },
  {
   "cell_type": "code",
   "execution_count": null,
   "id": "940ace70",
   "metadata": {},
   "outputs": [],
   "source": [
    "# What about charming little cabins?\n",
    "# Hickey answer: 18%\n"
   ]
  },
  {
   "cell_type": "code",
   "execution_count": null,
   "id": "6a1ce12b",
   "metadata": {},
   "outputs": [],
   "source": [
    "# If there is a CABIN, how likely is it on a LAKE?\n",
    "# Hickey answer: 35%\n"
   ]
  },
  {
   "cell_type": "code",
   "execution_count": null,
   "id": "9a24bad2",
   "metadata": {},
   "outputs": [],
   "source": [
    "# If there is a CABIN, how likely is there SNOW on the ground?\n",
    "# Hickey answer: 40%\n"
   ]
  },
  {
   "cell_type": "code",
   "execution_count": null,
   "id": "28ecfa48",
   "metadata": {},
   "outputs": [],
   "source": [
    "# If there is a CABIN, how likely is it among CONIFER trees?\n",
    "# Hickey answer: 72%\n"
   ]
  },
  {
   "cell_type": "code",
   "execution_count": null,
   "id": "003b396d",
   "metadata": {},
   "outputs": [],
   "source": [
    "# If there is a CABIN, how likely is it among DECIDUOUS trees?\n",
    "# Hickey answer: 63%\n"
   ]
  },
  {
   "cell_type": "code",
   "execution_count": null,
   "id": "82883675",
   "metadata": {},
   "outputs": [],
   "source": [
    "# If the painting includes the OCEAN, how likely is it you see the BEACH?\n",
    "# Hickey answer: 75%\n"
   ]
  },
  {
   "cell_type": "code",
   "execution_count": null,
   "id": "11e89a26",
   "metadata": {},
   "outputs": [],
   "source": [
    "# If the painting includes the OCEAN, how likely is it you see the SUN?\n",
    "# Hickey answer: 31%\n"
   ]
  },
  {
   "cell_type": "code",
   "execution_count": null,
   "id": "f9286d40",
   "metadata": {},
   "outputs": [],
   "source": [
    "# If the painting includes the OCEAN, how likely are there WAVES?\n",
    "# Hickey answer: 97%\n"
   ]
  },
  {
   "cell_type": "markdown",
   "id": "9105bb51",
   "metadata": {},
   "source": [
    "**Question 2**\n",
    "\n",
    "The City of Austin Open Data Portal (https://data.austintexas.gov) has many datasets available for use. In this assignment, we will use the Water Quality Sampling dataset (https://data.austintexas.gov/Environment/Water-Quality-Sampling-Data/5tye-7ray). Since the entire dataset is 364MB (!), I have created a compressed download here: from this URL: https://pages.tacc.utexas.edu/~pnav/tc310/Water_Quality_Sampling_Data.csv.zip\n",
    "\n",
    "Imagine you are working with a research team studying water quality in Austin. They would like to perform a water quality analysis on the available data and need your help to answer the following questions:\n",
    "\n",
    "* how many watersheds? amount of data for each?\n",
    "* the site types within each watershed and amount of data for each\n",
    "* a list of projects at each watershed and data date ranges for those projects\n",
    "\n",
    "\n",
    "**Concepts:** data tabluation, data filtering, date parsing\n",
    "\n",
    "*Hint:* for parsing dates, look at the Python documentation for [datetime](https://docs.python.org/3/library/datetime.html), particularly `datetime.strptime` in the [examples](https://docs.python.org/3/library/datetime.html#examples-of-usage-datetime)."
   ]
  },
  {
   "cell_type": "code",
   "execution_count": null,
   "id": "6434fd36",
   "metadata": {},
   "outputs": [],
   "source": [
    "import requests, csv, os\n",
    "from zipfile import ZipFile\n",
    "\n",
    "# Load the Water Quality Sampling data \n",
    "# download it if necessary\n",
    "if not os.path.exists('Water_Quality_Sampling_Data.csv'):\n",
    "    url = \"https://pages.tacc.utexas.edu/~pnav/tc310/Water_Quality_Sampling_Data.csv.zip\"\n",
    "    req = requests.get(url)\n",
    "    if req.ok:\n",
    "        with open('Water_Quality_Sampling_Data.csv.zip','wb') as fp:\n",
    "            fp.write(req.content)\n",
    "        with ZipFile('Water_Quality_Sampling_Data.csv.zip') as zf:\n",
    "            zf.extract('Water_Quality_Sampling_Data.csv')\n",
    "    else:\n",
    "        # if you see this message, please let Paul know!\n",
    "        print(f\"TC310: ERROR - {url} returned unexpected code {req.status_code}\")\n",
    "        req.raise_for_status()\n",
    "\n",
    "# use csv.DictReader to parse the CSV data\n",
    "with open('Water_Quality_Sampling_Data.csv',newline='') as fp:\n",
    "    # hint: try using a comprehension\n",
    "    water_data = ...\n",
    "        \n",
    "# should get:\n",
    "# dict_keys(['DATA_REF_NO', 'DEPTH_IN_METERS', 'FILTER', 'LAT_DD_WGS84', 'LON_DD_WGS84', 'MEDIUM', 'METHOD', 'PARAM_TYPE', 'PARAMETER', 'PROJECT', 'QC_FLAG', 'QC_TYPE', 'QUALIFIER', 'RESULT', 'SAMPLE_DATE', 'SAMPLE_ID', 'SAMPLE_REF_NO', 'SAMPLE_SITE_NO', 'SITE_NAME', 'SITE_TYPE', 'TIME_NULL', 'UNIT', 'WATERSHED'])\n",
    "print(water_data[0].keys())"
   ]
  },
  {
   "cell_type": "code",
   "execution_count": null,
   "id": "6ce046ab",
   "metadata": {},
   "outputs": [],
   "source": [
    "# how many watersheds? amount of data for each?\n",
    "# hint: use WATERSHED column"
   ]
  },
  {
   "cell_type": "code",
   "execution_count": null,
   "id": "6df085be",
   "metadata": {},
   "outputs": [],
   "source": [
    "# the site types within each watershed and amount of data for each\n",
    "# hint: use WATERSHED and SITE_TYPE columns"
   ]
  },
  {
   "cell_type": "code",
   "execution_count": null,
   "id": "e1af1974",
   "metadata": {},
   "outputs": [],
   "source": [
    "# a list of projects at each watershed and data date ranges for those projects\n",
    "# hint: use WATERSHED and PROJECT columns"
   ]
  },
  {
   "cell_type": "markdown",
   "id": "d71471b6",
   "metadata": {},
   "source": [
    "**Question 3**\n",
    "\n",
    "Poker (as Nate Silver will tell you) is a game of skill combined with luck. Knowing hand probabilities is a key part of the skill and strategy. You will use the CardDeck class below to empirically study the probability of hands of five-card poker.\n",
    "\n",
    "First, you will need to define functions to check whether a five-card hand contains each [class of poker hand](https://en.wikipedia.org/wiki/List_of_poker_hands): one pair, two pair, three of a kind, straight, flush, full house, four of a kind, straight flush.\n",
    "\n",
    "Next, observe the number of each class of hand generated across seven orders of magnitude. Does your experiment confirm the ranking of poker hands? how many iterations did it take to get at least one four-of-a-kind? at least one straight-flush?"
   ]
  },
  {
   "cell_type": "code",
   "execution_count": null,
   "id": "b7c337da",
   "metadata": {},
   "outputs": [],
   "source": [
    "import random\n",
    "\n",
    "class CardDeck:\n",
    "    suits = ('\\u2660','\\u2661','\\u2662','\\u2663')\n",
    "    ranks = ('A','2','3','4','5','6','7','8','9','T','J','Q','K')\n",
    "    def __init__(self):\n",
    "        self.deck = []\n",
    "        self.dealt = []\n",
    "        self.reset()\n",
    "        \n",
    "    def __str__(self):\n",
    "        return f\"a deck with {len(self.deck)} cards\"\n",
    "    \n",
    "    def reset(self):\n",
    "        self.deck.clear()\n",
    "        self.dealt.clear()\n",
    "        for s in self.suits:\n",
    "            for r in self.ranks:\n",
    "                self.deck.append(r + s)\n",
    "    \n",
    "    def shuffle(self):\n",
    "        random.shuffle(self.deck)\n",
    "    \n",
    "    def deal(self, cards=1):\n",
    "        dealt = self.deck[-1*cards:]\n",
    "        self.dealt += dealt\n",
    "        self.deck = self.deck[:-1*cards]\n",
    "        return dealt"
   ]
  },
  {
   "cell_type": "code",
   "execution_count": null,
   "id": "4a478f75",
   "metadata": {},
   "outputs": [],
   "source": [
    "def has_pair(hand):\n",
    "    ..."
   ]
  },
  {
   "cell_type": "code",
   "execution_count": null,
   "id": "4594612f",
   "metadata": {},
   "outputs": [],
   "source": [
    "# has_pair test cases\n",
    "hand1 = ['6♣', 'A♡', '3♣', '2♣', '9♢'] # no pair - False\n",
    "hand2 = ['K♠', 'A♢', '9♡', 'Q♢', 'K♢'] # pair - True\n",
    "hand3 = ['6♢', '6♠', '8♢', '7♢', 'T♢'] # pair - True\n",
    "hand4 = ['6♣', '6♡', '3♣', '2♣', '6♢'] # \"pair\" - True\n",
    "\n",
    "print(has_pair(hand1))\n",
    "print(has_pair(hand2))\n",
    "print(has_pair(hand3))\n",
    "print(has_pair(hand4))"
   ]
  },
  {
   "cell_type": "code",
   "execution_count": null,
   "id": "75c2f52c",
   "metadata": {},
   "outputs": [],
   "source": [
    "def has_two_pair(hand):\n",
    "    ..."
   ]
  },
  {
   "cell_type": "code",
   "execution_count": null,
   "id": "30f66e9e",
   "metadata": {},
   "outputs": [],
   "source": [
    "# has_two_pair test cases\n",
    "hand1 = ['6♣', 'A♡', '3♣', '2♣', '9♢'] # no pair - False\n",
    "hand2 = ['K♠', 'A♢', '9♡', 'Q♢', 'K♢'] # pair - False\n",
    "hand3 = ['6♣', '6♡', '3♣', '2♣', '6♢'] # \"two pair\" - False\n",
    "hand4 = ['6♢', '6♠', '8♢', 'T♣', 'T♢'] # two pair - True\n",
    "hand5 = ['6♢', '8♢', '6♠', 'T♣', 'T♢'] # two pair - True\n",
    "\n",
    "print(has_two_pair(hand1))\n",
    "print(has_two_pair(hand2))\n",
    "print(has_two_pair(hand3))\n",
    "print(has_two_pair(hand4))\n",
    "print(has_two_pair(hand5))"
   ]
  },
  {
   "cell_type": "code",
   "execution_count": null,
   "id": "2286f60b",
   "metadata": {},
   "outputs": [],
   "source": [
    "def has_three_of_a_kind(hand):\n",
    "    ..."
   ]
  },
  {
   "cell_type": "code",
   "execution_count": null,
   "id": "a9fc459b",
   "metadata": {},
   "outputs": [],
   "source": [
    "# has_three_of_a_kind test cases\n",
    "hand1 = ['6♣', 'A♡', '3♣', '2♣', '9♢'] # no trips - False\n",
    "hand2 = ['K♠', 'A♢', '9♡', 'Q♢', 'K♢'] # no trips - False\n",
    "hand3 = ['6♣', '6♡', '3♣', '2♣', '6♢'] # trips - True\n",
    "hand4 = ['6♢', '6♠', '8♢', 'T♣', 'T♢'] # no trips - False\n",
    "hand5 = ['6♢', '8♢', '6♠', 'T♣', 'T♢'] # no trips - False\n",
    "hand6 = ['6♣', '3♣', '6♡', '2♣', '6♢'] # trips - True\n",
    "hand7 = ['6♣', '3♣', '2♣', '6♡', '6♢'] # trips - True\n",
    "hand8 = ['3♣', '2♣', '6♣', '6♡', '6♢'] # trips - True\n",
    "\n",
    "\n",
    "print(has_three_of_a_kind(hand1))\n",
    "print(has_three_of_a_kind(hand2))\n",
    "print(has_three_of_a_kind(hand3))\n",
    "print(has_three_of_a_kind(hand4))\n",
    "print(has_three_of_a_kind(hand5))\n",
    "print(has_three_of_a_kind(hand6))\n",
    "print(has_three_of_a_kind(hand7))\n",
    "print(has_three_of_a_kind(hand8))"
   ]
  },
  {
   "cell_type": "code",
   "execution_count": null,
   "id": "54439f92",
   "metadata": {},
   "outputs": [],
   "source": [
    "# hint: aces can be low or high, but no 'wrap-around' straights\n",
    "# hint: leverage what sorted(CardDeck.ranks) returns, but with some extra work\n",
    "# hint: try a lambda function to provide a sorting key to sorted()\n",
    "def has_straight(hand):\n",
    "    ..."
   ]
  },
  {
   "cell_type": "code",
   "execution_count": null,
   "id": "7443b190",
   "metadata": {},
   "outputs": [],
   "source": [
    "# has_straight test cases\n",
    "hand1 = ['6♣', 'A♡', '3♣', '2♣', '9♢'] # no straight - False\n",
    "hand2 = ['K♠', 'A♢', 'T♡', 'Q♢', 'J♢'] # straight - True\n",
    "hand3 = ['6♣', '4♡', '3♣', '2♣', '6♢'] # no straight - False\n",
    "hand4 = ['6♢', '7♠', '8♢', 'T♣', '9♢'] # straight - True\n",
    "hand5 = ['8♢', '9♢', 'J♠', 'Q♣', 'T♢'] # straight - True\n",
    "hand6 = ['A♣', '3♣', '5♡', '2♣', '4♢'] # straight - True\n",
    "hand7 = ['A♣', '3♣', 'K♡', '2♣', '4♢'] # no straight - False\n",
    "hand8 = ['3♣', '2♣', '6♣', '5♡', '4♢'] # straight - True\n",
    "\n",
    "\n",
    "print(has_straight(hand1))\n",
    "print(has_straight(hand2))\n",
    "print(has_straight(hand3))\n",
    "print(has_straight(hand4))\n",
    "print(has_straight(hand5))\n",
    "print(has_straight(hand6))\n",
    "print(has_straight(hand7))\n",
    "print(has_straight(hand8))"
   ]
  },
  {
   "cell_type": "code",
   "execution_count": null,
   "id": "d6e8e3f7",
   "metadata": {},
   "outputs": [],
   "source": [
    "def has_flush(hand):\n",
    "    ..."
   ]
  },
  {
   "cell_type": "code",
   "execution_count": null,
   "id": "54d26a78",
   "metadata": {},
   "outputs": [],
   "source": [
    "# has_flush test cases\n",
    "hand1 = ['6♣', 'A♡', '3♣', '2♣', '9♢'] # no flush - False\n",
    "hand2 = ['K♢', 'A♢', 'T♢', 'Q♢', 'J♢'] # flush - True\n",
    "hand3 = ['6♣', '4♣', '3♣', '2♣', 'T♣'] # flush - True\n",
    "\n",
    "print(has_flush(hand1))\n",
    "print(has_flush(hand2))\n",
    "print(has_flush(hand3))"
   ]
  },
  {
   "cell_type": "code",
   "execution_count": null,
   "id": "5d162673",
   "metadata": {},
   "outputs": [],
   "source": [
    "def has_full_house(hand):\n",
    "    ..."
   ]
  },
  {
   "cell_type": "code",
   "execution_count": null,
   "id": "65c0b534",
   "metadata": {},
   "outputs": [],
   "source": [
    "# has_full_house test cases\n",
    "hand1 = ['6♣', 'A♡', '3♣', '2♣', '9♢'] # no full house - False\n",
    "hand2 = ['K♠', 'A♢', '9♡', '9♢', 'K♢'] # no full house - False\n",
    "hand3 = ['6♣', '6♡', '3♣', '2♣', '6♢'] # no full house - False\n",
    "hand4 = ['6♢', '6♠', 'T♠', 'T♣', 'T♢'] # full house - True\n",
    "hand5 = ['6♣', '6♢', '6♠', 'T♣', 'T♢'] # full house - True\n",
    "hand6 = ['6♣', '3♣', '6♡', '3♢', '6♢'] # full house - True\n",
    "hand7 = ['6♣', '3♣', '3♢', '6♡', '6♢'] # full house - True\n",
    "\n",
    "\n",
    "print(has_full_house(hand1))\n",
    "print(has_full_house(hand2))\n",
    "print(has_full_house(hand3))\n",
    "print(has_full_house(hand4))\n",
    "print(has_full_house(hand5))\n",
    "print(has_full_house(hand6))\n",
    "print(has_full_house(hand7))"
   ]
  },
  {
   "cell_type": "code",
   "execution_count": null,
   "id": "cf3d77e7",
   "metadata": {},
   "outputs": [],
   "source": [
    "def has_four_of_a_kind(hand):\n",
    "    ..."
   ]
  },
  {
   "cell_type": "code",
   "execution_count": null,
   "id": "fb12e791",
   "metadata": {},
   "outputs": [],
   "source": [
    "# has_four_of_a_kind test cases\n",
    "hand1 = ['6♣', 'A♡', '3♣', '2♣', '9♢'] # no quad - False\n",
    "hand2 = ['K♠', 'A♢', '9♡', '9♢', 'K♢'] # no quad - False\n",
    "hand3 = ['6♣', '6♡', '3♣', '2♣', '6♢'] # no quad - False\n",
    "hand4 = ['6♢', '6♠', 'T♠', 'T♣', 'T♢'] # no quad - False\n",
    "hand5 = ['6♣', '6♢', '6♠', '6♡', 'T♢'] # quad - True\n",
    "hand6 = ['6♣', '6♠', '6♡', '3♢', '6♢'] # quad - True\n",
    "hand7 = ['3♣', '6♣', '6♠', '6♡', '6♢'] # quad - True\n",
    "\n",
    "\n",
    "print(has_four_of_a_kind(hand1))\n",
    "print(has_four_of_a_kind(hand2))\n",
    "print(has_four_of_a_kind(hand3))\n",
    "print(has_four_of_a_kind(hand4))\n",
    "print(has_four_of_a_kind(hand5))\n",
    "print(has_four_of_a_kind(hand6))\n",
    "print(has_four_of_a_kind(hand7))"
   ]
  },
  {
   "cell_type": "code",
   "execution_count": null,
   "id": "0d263058",
   "metadata": {},
   "outputs": [],
   "source": [
    "def has_straight_flush(hand):\n",
    "    ..."
   ]
  },
  {
   "cell_type": "code",
   "execution_count": null,
   "id": "ff84260e",
   "metadata": {},
   "outputs": [],
   "source": [
    "# has_straight_flush test cases\n",
    "hand1 = ['6♣', 'A♡', '3♣', '2♣', '9♢'] # no straight flush - False\n",
    "hand2 = ['K♢', 'A♢', 'T♢', 'Q♢', 'J♢'] # straight flush - True\n",
    "hand3 = ['6♣', '4♣', '3♣', '2♣', 'T♣'] # no straight flush - False\n",
    "hand4 = ['6♢', '7♠', '8♢', 'T♣', '9♢'] # no straight flush - False\n",
    "hand5 = ['6♢', '7♢', '8♢', 'T♢', '9♢'] # straight flush - True\n",
    "\n",
    "print(has_straight_flush(hand1))\n",
    "print(has_straight_flush(hand2))\n",
    "print(has_straight_flush(hand3))\n",
    "print(has_straight_flush(hand4))\n",
    "print(has_straight_flush(hand5))"
   ]
  },
  {
   "cell_type": "code",
   "execution_count": null,
   "id": "e4a43944",
   "metadata": {},
   "outputs": [],
   "source": [
    "# create counters for each hand type\n",
    "counts = {'pair':0,\n",
    "          'two-pair':0,\n",
    "          'trips':0,\n",
    "          'straight':0,\n",
    "          'flush':0,\n",
    "          'full-house':0,\n",
    "          'quad':0,\n",
    "          'straight-flush':0,\n",
    "         }\n",
    "\n",
    "deck = CardDeck()\n",
    "iterations = 1\n",
    "# iterations = 10\n",
    "# iterations = 100\n",
    "# iterations = 1_000\n",
    "# iterations = 10_000\n",
    "# iterations = 100_000\n",
    "# iterations = 1_000_000\n",
    "\n",
    "for i in range(iterations):\n",
    "    deck.reset()\n",
    "    deck.shuffle()\n",
    "    hand = deck.deal(5)\n",
    "    if has_pair(hand):\n",
    "        counts['pair'] += 1\n",
    "    if has_two_pair(hand):\n",
    "        counts['two-pair'] += 1\n",
    "    if has_three_of_a_kind(hand):\n",
    "        counts['trips'] += 1\n",
    "    if has_straight(hand):\n",
    "        counts['straight'] += 1\n",
    "    if has_flush(hand):\n",
    "        counts['flush'] += 1\n",
    "    if has_full_house(hand):\n",
    "        counts['full-house'] += 1\n",
    "    if has_four_of_a_kind(hand):\n",
    "        counts['quad'] += 1\n",
    "    if has_straight_flush(hand):\n",
    "        counts['straight-flush'] += 1\n",
    "    \n",
    "print(counts)"
   ]
  },
  {
   "cell_type": "code",
   "execution_count": null,
   "id": "67fc17de",
   "metadata": {},
   "outputs": [],
   "source": []
  }
 ],
 "metadata": {
  "kernelspec": {
   "display_name": "Python 3 (ipykernel)",
   "language": "python",
   "name": "python3"
  },
  "language_info": {
   "codemirror_mode": {
    "name": "ipython",
    "version": 3
   },
   "file_extension": ".py",
   "mimetype": "text/x-python",
   "name": "python",
   "nbconvert_exporter": "python",
   "pygments_lexer": "ipython3",
   "version": "3.8.10"
  }
 },
 "nbformat": 4,
 "nbformat_minor": 5
}
