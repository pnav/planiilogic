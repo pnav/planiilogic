{
 "cells": [
  {
   "cell_type": "markdown",
   "metadata": {},
   "source": [
    "# Assignment 5 - Due Friday After Class 16 (3/13/20)\n",
    "\n",
    "**Submission instructions:** Paul will share a Box upload link with you. Complete your answers to the questions below by double-clicking on each box and writing your answers. Use \"Shift-Return\" to store your new text in each answer box. Download the notebook, change the file name to your last name and UT EID, then upload the file to Box using the link. That's it!\n",
    "\n",
    "\n",
    "## Objectives\n",
    "1. Develop and explore notions of probability\n",
    "2. Explore data analysis in python"
   ]
  },
  {
   "cell_type": "markdown",
   "metadata": {},
   "source": [
    "## Student Info\n",
    "\n",
    "**Name:** *(your name here)*\n",
    "\n",
    "**UT EID:** *(your eid here)*"
   ]
  },
  {
   "cell_type": "markdown",
   "metadata": {},
   "source": [
    "## Question 1\n",
    "In *SN*, Silver presents an argument for Bayesian-based models to handle uncertainty. Are you convinced? Are there examples of Bayesian models in your discipline, or if not, can you conceive how one might be developed? If you are pro-Bayesian, describe how such models (real or hypothetical) would operate. If you are anti-Bayesian, describe what about your discipline prevents the development of usable probabilities and priors, and what other predictive measures you might employ.\n",
    "\n",
    "Develop your answer over several paragraphs."
   ]
  },
  {
   "cell_type": "markdown",
   "metadata": {},
   "source": [
    "*(answer to Q1 here)*"
   ]
  },
  {
   "cell_type": "markdown",
   "metadata": {},
   "source": [
    "## Question 2\n",
    "In *SN*, Silver uses Texas Hold-em Poker to demonstrate notions of prior and posterior probabilities. In the subquestions below, you will work through examples using the card game Blackjack (also known as 21). Aces can be scored as 1 or 11, all face cards (Jack, Queen, King) are scored 10, all other cards are scored according to their rank (2 to 10). Suits are ignored. The goal is to get as close to 21 without going over (going \"bust\"). A two-card 21 (Ace plus a face card or ten) is a \"blackjack\"."
   ]
  },
  {
   "cell_type": "markdown",
   "metadata": {},
   "source": [
    "### Question 2.1 \n",
    "In a freshly and fairly shuffled deck of cards, what is the probability that the top card will be scored 10? Express your answer as a ratio (e.g. `1/2` or `3/5`)."
   ]
  },
  {
   "cell_type": "markdown",
   "metadata": {},
   "source": [
    "### Question 2.2\n",
    "In a freshly and fairly shuffled deck of cards, what is the probability that the first two cards will score 21?"
   ]
  },
  {
   "cell_type": "markdown",
   "metadata": {},
   "source": [
    "### Question 2.3\n",
    "In 21, if you are dealt two cards of the same rank, you can split your hand into two hands and receive a second card for each. From a freshly shuffled deck, say you are dealt two 10s. There are four other players at the table showing the following cards: Ace-4; King-6; 7-9; 8-Jack. The dealer shows a 3 (you cannot see their other card). You have first action at the table. If you split your cards, what is the probability that you will get at least one blackjack?"
   ]
  },
  {
   "cell_type": "markdown",
   "metadata": {},
   "source": [
    "### Question 2.4\n",
    "You are playing alone against the dealer using a freshly shuffled deck. The dealer is showing a Queen. You cannot see their other card, but you know they do not have blackjack. You have 9-8 for 17. What is the probability that the dealer has a lower scoring hand than you?"
   ]
  },
  {
   "cell_type": "markdown",
   "metadata": {},
   "source": [
    "### Question 2.5\n",
    "You have been playing for a while with the same deck, and 30 cards have been discarded. You remember that in addition to the Queen above, seven other face cards have been played, as well as two 10s and two 7s and the 9 and 8 from your first hand. The next deal comes from the remaining 22 cards. The dealer is again showing a Queen and again does not have blackjack. You again have a 9-8 for 17. What is the probability that the dealer has a lower scoring hand than you?"
   ]
  },
  {
   "cell_type": "markdown",
   "metadata": {},
   "source": [
    "## Code 1\n",
    "***thanks to Dave Semeraro and Anne Bowen @ TACC for the assignment details!***\n",
    "\n",
    "For your class project, you will need to analyze data using python. This coding assignment will give you some practice with doing that using the Pandas python library https://pandas.pydata.org/\n",
    "\n",
    "I have copied a dataset of UFO sightings to my dropbox, which you can download as you did the water quality data for assignment 4.\n",
    "\n",
    "To download the file into your notebook environment:\n",
    "1. Open a terminal from the notebook homepage with New->Terminal\n",
    "2. Change to the hw5 directory: `cd planiilogic/2020-Spring/hw5`\n",
    "3. Download the file: `wget https://www.dropbox.com/s/59jnksm4kpex3zr/ufo_location_shape.csv`\n",
    "\n",
    "You also must make sure that pandas (and matplotlib) is available. If you are using Stampede2, both should already be available. If you are using Docker, open a terminal and install pandas and matplotlib:\n",
    "1. Open a terminal from the notebook homepage with New->Terminal\n",
    "2. Run `pip install pandas`\n",
    "3. You will also need `matplotlib` for plotting. Run `pip install matplotlib`\n",
    "3. In a notebook cell, verfiy that they installed by running `import pandas,matplotlib`"
   ]
  },
  {
   "cell_type": "markdown",
   "metadata": {},
   "source": [
    "### Code 1.1 - Reading CSV files using Pandas\n",
    "Helpful link - https://pandas.pydata.org/docs/reference/api/pandas.read_csv.html\n",
    "\n",
    "Using Pandas, discover how many rows and columns there are in the UFO data, including the column names. Use the cell below to create python code that prints the total number of rows and columns, and prints the column names (or \"keys\")."
   ]
  },
  {
   "cell_type": "code",
   "execution_count": null,
   "metadata": {},
   "outputs": [],
   "source": [
    "import pandas"
   ]
  },
  {
   "cell_type": "markdown",
   "metadata": {},
   "source": [
    "### Code 1.2 - Filtering Data in Pandas\n",
    "Helpful links:\n",
    "- https://pandas.pydata.org/docs/reference/frame.html\n",
    "- https://pandas.pydata.org/docs/reference/arrays.html\n",
    "\n",
    "Now that you are able to open the CSV data, take a moment to experiment with it. Using Pandas, create code that: \n",
    "1. Lists the countries where sightings occurred with a count of sightings per country.\n",
    "2. For sightings in the USA, list the states where sightings occurred with a count of sightings per state.\n",
    "3. List the reported UFO shapes with a count of number of sightings per shape.\n"
   ]
  },
  {
   "cell_type": "code",
   "execution_count": null,
   "metadata": {},
   "outputs": [],
   "source": [
    "# list countries with sighting count per country\n",
    "import pandas"
   ]
  },
  {
   "cell_type": "code",
   "execution_count": null,
   "metadata": {},
   "outputs": [],
   "source": [
    "# list US states with sighting count per state\n",
    "import pandas"
   ]
  },
  {
   "cell_type": "code",
   "execution_count": null,
   "metadata": {},
   "outputs": [],
   "source": [
    "# list UFO shapes with sighting count per shape\n",
    "import pandas"
   ]
  },
  {
   "cell_type": "markdown",
   "metadata": {},
   "source": [
    "### Code 1.3 - Plotting Data in Pandas\n",
    "Helpful link - https://pandas.pydata.org/docs/reference/plotting.html\n",
    "\n",
    "Now that you have some familiarity with the data, write code that will:\n",
    "1. Filter the top ten US states with the most UFO sightings\n",
    "2. Create a line plot showing the number of each UFO shapes reported by each of the top ten states. \n",
    "3. Replot this data as a bar chart. Which do you prefer to show the data? Why?\n"
   ]
  },
  {
   "cell_type": "code",
   "execution_count": null,
   "metadata": {},
   "outputs": [],
   "source": [
    "# filter the top 10 US states by UFO sightings\n",
    "import pandas"
   ]
  },
  {
   "cell_type": "code",
   "execution_count": null,
   "metadata": {},
   "outputs": [],
   "source": [
    "# USING THE CODE ABOVE, create a line chart showing number of UFO sightings by shape for each state.\n",
    "# The x-axis should be UFO shape, the y-axis should be count, and there should be a line for each state.\n",
    "import pandas"
   ]
  },
  {
   "cell_type": "code",
   "execution_count": null,
   "metadata": {},
   "outputs": [],
   "source": [
    "# Now modify your line chart code to instead create a bar chart\n",
    "# The x-axis should be UFO shape, the y-axis should be count, and there should be a bar for each state at each UFO shape.\n",
    "import pandas"
   ]
  },
  {
   "cell_type": "markdown",
   "metadata": {},
   "source": [
    "***Which chart do you prefer? Why?***"
   ]
  },
  {
   "cell_type": "markdown",
   "metadata": {},
   "source": [
    "*(write your answer here)*"
   ]
  }
 ],
 "metadata": {
  "kernelspec": {
   "display_name": "Python 3",
   "language": "python",
   "name": "python3"
  },
  "language_info": {
   "codemirror_mode": {
    "name": "ipython",
    "version": 3
   },
   "file_extension": ".py",
   "mimetype": "text/x-python",
   "name": "python",
   "nbconvert_exporter": "python",
   "pygments_lexer": "ipython3",
   "version": "3.7.6"
  }
 },
 "nbformat": 4,
 "nbformat_minor": 2
}
