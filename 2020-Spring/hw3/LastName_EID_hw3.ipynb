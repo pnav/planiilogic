{
 "cells": [
  {
   "cell_type": "markdown",
   "metadata": {},
   "source": [
    "# Assignment 3 - Due Monday Before Class 9 (2/17/20)\n",
    "\n",
    "**Submission instructions:** Paul will share a Box upload link with you. Complete your answers to the questions below by double-clicking on each box and writing your answers. Use \"Shift-Return\" to store your new text in each answer box. Download the notebook, change the file name to your last name and UT EID, then upload the file to Box using the link. That's it!\n",
    "\n",
    "\n",
    "## Objectives\n",
    "1. Develop and explore notions of description and modeling\n",
    "2. Explore python control flow, loops and basic data structures"
   ]
  },
  {
   "cell_type": "markdown",
   "metadata": {},
   "source": [
    "## Student Info\n",
    "\n",
    "**Name:** *(your name here)*\n",
    "\n",
    "**UT EID:** *(your eid here)*"
   ]
  },
  {
   "cell_type": "markdown",
   "metadata": {},
   "source": [
    "## Question 1\n",
    "In *GEB*, Hofstadter contemplates Zen and koans as means to hint at the indescribable. Are there aspects of your field of study (or other personal interest) that are similarly indescribable? If so, describe the \"koans\" of this topic and how they are applied. If not, describe why not (i.e., what makes this topic fully describable?).\n",
    "\n",
    "Develop your answer over several paragraphs."
   ]
  },
  {
   "cell_type": "markdown",
   "metadata": {},
   "source": [
    "*(answer to Q1 here)*"
   ]
  },
  {
   "cell_type": "markdown",
   "metadata": {},
   "source": [
    "## Question 2\n",
    "In *SN*, Silver discusses three principles for good forecasting. Pick an example from your experience (either direct or indirect, e.g., a story from the news) and describe either how the principles were applied, or how they *could* (and perhaps should!) have been. \n",
    "\n",
    "Develop your answer over several paragraphs."
   ]
  },
  {
   "cell_type": "markdown",
   "metadata": {},
   "source": [
    "*(answer to Q2 here)*"
   ]
  },
  {
   "cell_type": "markdown",
   "metadata": {},
   "source": [
    "## Code 1\n",
    "In *SN*, Silver will develop notions of probablility and its application to forecasting. To help provide us hands-on experience with these concepts, we will use several games played with a deck of playing cards. But first, we must build our virtual deck!"
   ]
  },
  {
   "cell_type": "markdown",
   "metadata": {},
   "source": [
    "### Code 1.1\n",
    "Define a function named `make_deck` that creates a list of 52 cards, where each \"card\" is defined as a *tuple* (i.e. use parantheses) containing two strings:\n",
    "* a suit: 'C' for clubs, 'D' for diamonds, 'H' for hearts, 'S' for spades\n",
    "* a rank: 2-10 (as strings), 'J' for jack, 'Q' for queen, 'K' for king, 'A' for ace\n",
    "\n",
    "For example, the three of diamonds should be `('D','3')` and the jack of hearts should be `('H','J')`. The function should return the deck as a list."
   ]
  },
  {
   "cell_type": "code",
   "execution_count": null,
   "metadata": {},
   "outputs": [],
   "source": [
    "def make_deck():\n",
    "    deck=[]\n",
    "    # put your code here\n",
    "    return deck"
   ]
  },
  {
   "cell_type": "markdown",
   "metadata": {},
   "source": [
    "### Code 1.2\n",
    "The first step to playing with cards is to shuffle them. Fortunately, python provides convenient methods to manipulate lists, including `sort` and `shuffle`. Experiment with these on your virtual deck below."
   ]
  },
  {
   "cell_type": "code",
   "execution_count": null,
   "metadata": {},
   "outputs": [],
   "source": [
    "import random\n",
    "\n",
    "deck = make_deck()\n",
    "random.shuffle(deck)\n",
    "print(\"a shuffled deck: {}\".format(deck))\n",
    "random.shuffle(deck)\n",
    "print(\"another shuffled deck: {}\".format(deck))\n",
    "deck.sort()\n",
    "print(\"a sorted deck? {}\".format(deck))"
   ]
  },
  {
   "cell_type": "markdown",
   "metadata": {},
   "source": [
    "**What is the problem with the \"sorted\" deck? Why does that happen?**"
   ]
  },
  {
   "cell_type": "markdown",
   "metadata": {},
   "source": [
    "*(describe the problem with the \"sorted\" deck and its cause here)*"
   ]
  },
  {
   "cell_type": "markdown",
   "metadata": {},
   "source": [
    "Now, let's define a function `sort_deck` that will sort the deck \"correctly\":\n",
    "* ranks in order: ace through king\n",
    "* suits in order: clubs, diamonds, hearts, spades\n",
    "\n",
    "Your function should take a deck list as its argument and return the deck sorted. ***HINT: the `sort` function gets close! perhaps you can use that to start....***"
   ]
  },
  {
   "cell_type": "code",
   "execution_count": null,
   "metadata": {},
   "outputs": [],
   "source": [
    "def sort_deck(deck):\n",
    "    # sort the deck ace - king in each suit\n",
    "    return deck"
   ]
  },
  {
   "cell_type": "markdown",
   "metadata": {},
   "source": [
    "### Code 1.3\n",
    "Now that we can shuffle a deck and return it to order, we need to be able to distribute cards for play! Define a function `deal` to \"deal\" hands from a deck:\n",
    "* This function should have the following arguments: a deck list, the number of hands, and the number of cards per hand. \n",
    "* The deal should proceed as you would deal cards physically: each hand gets one card before any hand gets two cards, etc. \n",
    "* Your function should verify that it can make a valid deal: check that the number of hands and cards requested are positive integers; and that there are enough cards to complete the requested hands. \n",
    "    * If it cannot make a valid deal, your function should return a list containing the deck list and an empty list of hands. \n",
    "    * If it can make a valid deal, your function should return a list containing the remaining deck (or an empty list if all the cards were dealt), and list of hands, with each hand as a separate list.\n",
    "\n",
    "A deal for three hands of five cards each (say, for a game of five card draw poker) with the given deck below should return the following:\n",
    "```\n",
    "deck=[('S', '7'), ('H', '6'), ('S', 'A'), ('S', '3'), ('S', '5'), ('C', 'A'), ('D', '8'), ('S', '10'), ('C', 'Q'), ('H', '5'), ('C', '8'), ('H', '8'), ('C', 'K'), ('H', 'A'), ('D', 'A'), ('S', '4'), ('C', '6'), ('D', '7'), ('S', 'Q'), ('H', '3'), ('D', 'K'), ('D', 'Q'), ('H', '2'), ('D', '10'), ('H', '7'), ('S', '6'), ('D', 'J'), ('C', '10'), ('S', '8'), ('H', '10'), ('D', '5'), ('D', '6'), ('C', '9'), ('D', '3'), ('S', 'K'), ('C', '4'), ('C', '2'), ('H', '9'), ('H', 'J'), ('C', '5'), ('H', '4'), ('D', '9'), ('D', '4'), ('S', '2'), ('S', '9'), ('C', '7'), ('S', 'J'), ('H', 'Q'), ('D', '2'), ('H', 'K'), ('C', '3'), ('C', 'J')]\n",
    "\n",
    "deal(deck,3,5)\n",
    "[[('S', '4'), ('C', '6'), ('D', '7'), ('S', 'Q'), ('H', '3'), ('D', 'K'), ('D', 'Q'), ('H', '2'), ('D', '10'), ('H', '7'), ('S', '6'), ('D', 'J'), ('C', '10'), ('S', '8'), ('H', '10'), ('D', '5'), ('D', '6'), ('C', '9'), ('D', '3'), ('S', 'K'), ('C', '4'), ('C', '2'), ('H', '9'), ('H', 'J'), ('C', '5'), ('H', '4'), ('D', '9'), ('D', '4'), ('S', '2'), ('S', '9'), ('C', '7'), ('S', 'J'), ('H', 'Q'), ('D', '2'), ('H', 'K'), ('C', '3'), ('C', 'J')], [[('S', '7'), ('S', '3'), ('D', '8'), ('H', '5'), ('C', 'K')], [('H', '6'), ('S', '5'), ('S', '10'), ('C', '8'), ('H', 'A')], [('S', 'A'), ('C', 'A'), ('C', 'Q'), ('H', '8'), ('D', 'A')]]]\n",
    "```\n",
    "   "
   ]
  },
  {
   "cell_type": "code",
   "execution_count": null,
   "metadata": {},
   "outputs": [],
   "source": [
    "def deal(deck,hand_count,card_count):\n",
    "    hands=[]\n",
    "    # check for a valid deal\n",
    "    if (  ):  # <-- add validity checks here\n",
    "        # deal the deck    \n",
    "\n",
    "    return [deck,hands]\n",
    "        "
   ]
  },
  {
   "cell_type": "markdown",
   "metadata": {},
   "source": [
    "**Test your code using the following scenarios:**"
   ]
  },
  {
   "cell_type": "code",
   "execution_count": null,
   "metadata": {},
   "outputs": [],
   "source": [
    "import random\n",
    "deck=make_deck()\n",
    "random.shuffle(deck)\n",
    "deck,hands = deal(deck,-1,4)"
   ]
  },
  {
   "cell_type": "code",
   "execution_count": null,
   "metadata": {},
   "outputs": [],
   "source": [
    "import random\n",
    "deck=make_deck()\n",
    "random.shuffle(deck)\n",
    "deck,hands = deal(deck,1,-4)"
   ]
  },
  {
   "cell_type": "code",
   "execution_count": null,
   "metadata": {},
   "outputs": [],
   "source": [
    "import random\n",
    "deck=make_deck()\n",
    "random.shuffle(deck)\n",
    "deck,hands = deal(deck,1,4)"
   ]
  },
  {
   "cell_type": "code",
   "execution_count": null,
   "metadata": {},
   "outputs": [],
   "source": [
    "import random\n",
    "deck=make_deck()\n",
    "random.shuffle(deck)\n",
    "deck,hands = deal(deck,3,5)"
   ]
  },
  {
   "cell_type": "code",
   "execution_count": null,
   "metadata": {},
   "outputs": [],
   "source": [
    "import random\n",
    "deck=make_deck()\n",
    "random.shuffle(deck)\n",
    "deck,hands = deal(deck,7,2)"
   ]
  },
  {
   "cell_type": "code",
   "execution_count": null,
   "metadata": {},
   "outputs": [],
   "source": [
    "import random\n",
    "deck=make_deck()\n",
    "random.shuffle(deck)\n",
    "deck,hands = deal(deck,4,13)"
   ]
  },
  {
   "cell_type": "code",
   "execution_count": null,
   "metadata": {},
   "outputs": [],
   "source": [
    "import random\n",
    "deck=make_deck()\n",
    "random.shuffle(deck)\n",
    "deck,hands = deal(deck,4,14)"
   ]
  }
 ],
 "metadata": {
  "kernelspec": {
   "display_name": "Python 3",
   "language": "python",
   "name": "python3"
  },
  "language_info": {
   "codemirror_mode": {
    "name": "ipython",
    "version": 3
   },
   "file_extension": ".py",
   "mimetype": "text/x-python",
   "name": "python",
   "nbconvert_exporter": "python",
   "pygments_lexer": "ipython3",
   "version": "3.7.6"
  }
 },
 "nbformat": 4,
 "nbformat_minor": 2
}
