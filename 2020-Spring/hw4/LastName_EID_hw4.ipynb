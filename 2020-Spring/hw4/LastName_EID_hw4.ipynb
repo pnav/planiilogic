{
 "cells": [
  {
   "cell_type": "markdown",
   "metadata": {},
   "source": [
    "# Assignment 4 - Due Monday Before Class 11 (2/24/20)\n",
    "\n",
    "**Submission instructions:** Paul will share a Box upload link with you. Complete your answers to the questions below by double-clicking on each box and writing your answers. Use \"Shift-Return\" to store your new text in each answer box. Download the notebook, change the file name to your last name and UT EID, then upload the file to Box using the link. That's it!\n",
    "\n",
    "\n",
    "## Objectives\n",
    "1. Develop and explore notions of modeling bias and error\n",
    "2. Explore reading and writing structured files in python"
   ]
  },
  {
   "cell_type": "markdown",
   "metadata": {},
   "source": [
    "## Student Info\n",
    "\n",
    "**Name:** *(your name here)*\n",
    "\n",
    "**UT EID:** *(your eid here)*"
   ]
  },
  {
   "cell_type": "markdown",
   "metadata": {},
   "source": [
    "## Question 1\n",
    "In *SN*, Silver discusses sources of bias in forming models and predictions. Expound on potential sources of bias in studies your discipline or in a topic of current interest.\n",
    "\n",
    "Develop your answer over several paragraphs."
   ]
  },
  {
   "cell_type": "markdown",
   "metadata": {},
   "source": [
    "*(answer to Q1 here)*"
   ]
  },
  {
   "cell_type": "markdown",
   "metadata": {},
   "source": [
    "## Question 2\n",
    "In *SN*, Silver describes how small modeling errors can have large impacts. Discuss whether your discipline (or a topc of current interest) has similar risks, and if so, how they are handled (are they mitigated in some way? accepted in hope the worst doesn't occur? etc).\n",
    "\n",
    "Develop your answer over several paragraphs."
   ]
  },
  {
   "cell_type": "markdown",
   "metadata": {},
   "source": [
    "*(answer to Q2 here)*"
   ]
  },
  {
   "cell_type": "markdown",
   "metadata": {},
   "source": [
    "## Code 1\n",
    "For your class project, you will very likely need to load data files into python. This coding assignment will give you some practice with reading and writing files!\n",
    "\n",
    "The City of Austin Open Data Portal (https://data.austintexas.gov) has many datasets available for use. In this assignment, we will use a subset of the Water Quality Sampling dataset (https://data.austintexas.gov/Environment/Water-Quality-Sampling-Data/5tye-7ray). Since the entire dataset is 364MB (!), I have created a smaller version containing only records from Waller Creek, Lady Bird Lake, and Lake Travis that can be downloaded from this URL: https://www.dropbox.com/s/xxxfn9mjxy7hosp/water-quality.csv.gz\n",
    "\n",
    "To download the file into your notebook environment:\n",
    "1. Open a terminal from the notebook homepage with New->Terminal\n",
    "2. Change to the hw4 directory: `cd planiilogic/2020-Spring/hw4`\n",
    "3. Download the file: `wget https://www.dropbox.com/s/xxxfn9mjxy7hosp/water-quality.csv.gz`\n",
    "4. Unzip the file: `gunzip water-quality.csv`"
   ]
  },
  {
   "cell_type": "markdown",
   "metadata": {},
   "source": [
    "### Code 1.1 - Reading CSV files\n",
    "Helpful link - https://docs.python.org/3/library/csv.html\n",
    "\n",
    "Define a function `count_records` that for a given csv filename will (1) open the file, (2) count the number of CSV rows *(n.b. this might not be the same as the number of rows in the file!)*, and (3) returns the result."
   ]
  },
  {
   "cell_type": "code",
   "execution_count": null,
   "metadata": {},
   "outputs": [],
   "source": [
    "def count_records(filename):\n",
    "    try:\n",
    "        with open(filename,newline='') as csvfile: # newline arg recommended, see CSV library page\n",
    "            # parse csvfile as a CSV file\n",
    "            # count the number of rows the CSV parser returns\n",
    "            # return that number\n",
    "    except:\n",
    "        print(\"ERROR - could not open file '{}'\".format(filename))\n",
    "        return -1\n",
    "    \n",
    "count_records(\"water-quality.csv\")"
   ]
  },
  {
   "cell_type": "markdown",
   "metadata": {},
   "source": [
    "### Code 1.2 - Filtering CSV Data\n",
    "Now that you are able to open the CSV data, take a moment to experiment with it. Notice that some records (i.e. rows) have empty fields. We would like to remove the fields that lack a valid \"Location\" entry.\n",
    "\n",
    "Create a function `filter_empty` that: \n",
    "1. reads the `water-quality.csv` file\n",
    "2. checks if a given field has a valid (i.e. non-empty) entry. If it does add it to a list of valid rows.\n",
    "3. returns the list of valid rows (or an empty list if there are no valid rows)"
   ]
  },
  {
   "cell_type": "code",
   "execution_count": null,
   "metadata": {},
   "outputs": [],
   "source": [
    "def filter_empty(filename,field):\n",
    "    valid=[]\n",
    "    try:\n",
    "        with open(filename,newline='') as csvfile: \n",
    "            # parse csvfile as a CSV file\n",
    "            # for each row, determine if the field is empty\n",
    "            # if the field is not empty, add the row to valid_rows\n",
    "        return valid\n",
    "    except:\n",
    "        print(\"ERROR - could not open file '{}'\".format(filename))\n",
    "        return []\n",
    "    \n",
    "valid_rows = filter_empty(\"water-quality.csv\",\"Location\")"
   ]
  },
  {
   "cell_type": "markdown",
   "metadata": {},
   "source": [
    "### Code 1.3 - Writing a JSON file\n",
    "Helpful link - https://docs.python.org/3/library/json.html\n",
    "\n",
    "Now that you have a filtered list of rows, create a JSON file for each watershed in the dataset (there are three: Waller Creek, Lady Bird Lake, and Lake Travis). To do this, create a function `write_json` that:\n",
    "1. takes a list of valid rows and a watershed name as arguments\n",
    "2. builds a new list of the rows that contain the watershed name\n",
    "3. writes that new list as a JSON file using the watershed as the filename (e.g. \"Waller Creek.json\")"
   ]
  },
  {
   "cell_type": "code",
   "execution_count": null,
   "metadata": {},
   "outputs": [],
   "source": [
    "import json\n",
    "def write_json(rows,watershed):\n",
    "    watershed_rows=[]\n",
    "    # build watershed_rows to contain the rows for the given watershed\n",
    "    with open(\"{}.json\".format(watershed),'w') as jsonfile:\n",
    "        # write watershed_rows as a json file \n",
    "        # using the jsonfile file descriptor\n",
    "        \n",
    "write_json(valid_rows,\"Waller Creek\")\n",
    "write_json(valid_rows,\"Lady Bird Lake\")\n",
    "write_json(valid_rows,\"Lake Travis\")"
   ]
  }
 ],
 "metadata": {
  "kernelspec": {
   "display_name": "Python 3",
   "language": "python",
   "name": "python3"
  },
  "language_info": {
   "codemirror_mode": {
    "name": "ipython",
    "version": 3
   },
   "file_extension": ".py",
   "mimetype": "text/x-python",
   "name": "python",
   "nbconvert_exporter": "python",
   "pygments_lexer": "ipython3",
   "version": "3.7.6"
  }
 },
 "nbformat": 4,
 "nbformat_minor": 2
}
