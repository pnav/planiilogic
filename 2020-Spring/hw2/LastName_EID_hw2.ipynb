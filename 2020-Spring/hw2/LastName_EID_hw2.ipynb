{
 "cells": [
  {
   "cell_type": "markdown",
   "metadata": {},
   "source": [
    "# Assignment 2 - Due Class 6 (2/06/20)\n",
    "\n",
    "**Submission instructions:** Paul will share a Box upload link with you. Complete your answers to the questions below by double-clicking on each box and writing your answers. Use \"Shift-Return\" to store your new text in each answer box. Download the notebook, change the file name to your last name and UT EID, then upload the file to Box using the link. That's it!\n",
    "\n",
    "\n",
    "## Objectives\n",
    "1. Develop and explore notions of decidability, identity, and communication\n",
    "2. Explore python control flow, loops and basic data structures"
   ]
  },
  {
   "cell_type": "markdown",
   "metadata": {},
   "source": [
    "## Student Info\n",
    "\n",
    "**Name:** *(your name here)*\n",
    "\n",
    "**UT EID:** *(your eid here)*"
   ]
  },
  {
   "cell_type": "markdown",
   "metadata": {},
   "source": [
    "## Question 1\n",
    "Does English (or another human spoken language of your choice) have a Decision Procedure (i.e. means to determine if a statement is \"valid\" in that language)? If so, describe it. If not, describe why not.\n",
    "\n",
    "Defend your answer."
   ]
  },
  {
   "cell_type": "markdown",
   "metadata": {},
   "source": [
    "*(answer to Q1 here)*"
   ]
  },
  {
   "cell_type": "markdown",
   "metadata": {},
   "source": [
    "## Question 2\n",
    "In *GEB*, Hofstadter discusses the notions of ***copies*** and ***sameness***. Is the Notebook file you submit on Box the same as the Notebook file on your laptop?\n",
    "\n",
    "Defend your answer."
   ]
  },
  {
   "cell_type": "markdown",
   "metadata": {},
   "source": [
    "*(answer to Q2 here)*"
   ]
  },
  {
   "cell_type": "markdown",
   "metadata": {},
   "source": [
    "## Question 3\n",
    "In *GEB*, Hofstadter develops the notion of ***three layers of message***. Pick an example from your experience (either direct or indirect, e.g., a story from the news) and over several paragraphs explore how the three layers of message (frame, outer, inner) impacted communication in the situation."
   ]
  },
  {
   "cell_type": "markdown",
   "metadata": {},
   "source": [
    "*(answer to Q3 here)*"
   ]
  },
  {
   "cell_type": "markdown",
   "metadata": {},
   "source": [
    "## Code 1\n",
    "In *GEB*, Hofstadter describes the Fibonacci and Lucas sequences. Let us define a *Wettlaufer* sequence as having the short genotype (1,7). Thus, the phenotype of this sequence would be: `1, 7, 8, 15, ...`. Write a loop that can produce the `n`th element of our Wettlaufer sequence phenotype (defined as `w`) for a given value of `n`. In the cells below, demonstrate that your *general* solution can successfully produce the 10th, 100th, and 1000th element of the Wettlaufer sequence.\n"
   ]
  },
  {
   "cell_type": "code",
   "execution_count": null,
   "metadata": {},
   "outputs": [],
   "source": [
    "n=10\n",
    "\n",
    "if (n == 1):\n",
    "    w=1\n",
    "elif (n == 2):\n",
    "    w=7\n",
    "else:\n",
    "    # copy your Wettlaufer-seqeunce producing loop here\n",
    "    \n",
    "print(\"The {}th Wettlaufer number is {}\".format(n,w))"
   ]
  },
  {
   "cell_type": "code",
   "execution_count": null,
   "metadata": {},
   "outputs": [],
   "source": [
    "n=100\n",
    "\n",
    "if (n == 1):\n",
    "    w=1\n",
    "elif (n == 2):\n",
    "    w=7\n",
    "else:\n",
    "    # copy your Wettlaufer-seqeunce producing loop here\n",
    "    \n",
    "print(\"The {}th Wettlaufer number is {}\".format(n,w))"
   ]
  },
  {
   "cell_type": "code",
   "execution_count": null,
   "metadata": {},
   "outputs": [],
   "source": [
    "n=1000\n",
    "\n",
    "if (n == 1):\n",
    "    w=1\n",
    "elif (n == 2):\n",
    "    w=7\n",
    "else:\n",
    "    # copy your Wettlaufer-seqeunce producing loop here\n",
    "    \n",
    "print(\"The {}th Wettlaufer number is {}\".format(n,w))"
   ]
  },
  {
   "cell_type": "markdown",
   "metadata": {},
   "source": [
    "## Code 2 \n",
    "The Plan II Office would like to track how many students are taking each Plan II course this academic year, and upon learning that you are in this class (!) they have reached out to you for help. They have provided you a set of unique numbers for Plan II courses (`planii`) for the fall and spring, and a list of unique numbers (`courses`) from each Plan II student's schedule for each semester (in other words, a listing of each student's schedule by unique number as a single list). Write a *general* solution that can be used to count number of enrollees for *each* of the Plan II courses per semester. Your solution should print out each Plan II course number and the number of Plan II students enrolled \n",
    "\n",
    "**HINTS**: your solution should only require iterating once over each semseter course list, and not every Plan II course will have students enrolled\n",
    "\n",
    "**Disclaimer**: *all numbers are fictitious and randomly generated. Any relationship to actual courses or student schedules is purely coincidental and unintentional*."
   ]
  },
  {
   "cell_type": "code",
   "execution_count": null,
   "metadata": {},
   "outputs": [],
   "source": [
    "# Fall semseter\n",
    "planii = {30260, 37490, 40055, 40440, 42110, 44390, 45465, 46490, 46685, 49605}\n",
    "courses = [12790,53170,17725,58150,17980,20655,53735,37535,58120,86405,49605,69375,46490,42110,34020,29570,65770,46465,82275,40055,38290,48775,60905,90295,89815,46685,40440,25850,74370,30890,69405,25940,66440,50130,89870,24415,80440,15995,82170,55645,80540,74700,56230,36490,35980,71965,21945,26155,36865,37490,46685,75655,49605,56125,16745,37490,27320,13550,15295,92440,24470,49605,47475,11425,56165,42730,42655,90545,29160,92760,58180,37680,40440,49350,59755,21245,40440,10720,40060,54015,42110,73175,79385,86155,57960,34205,66815,49950,45465,46685,50900,45070,84315,88335,12035,66995,43980,35540,46490,37540]\n",
    "\n"
   ]
  },
  {
   "cell_type": "code",
   "execution_count": null,
   "metadata": {},
   "outputs": [],
   "source": [
    "# Spring semester\n",
    "planii = {31715, 35565, 36095, 36875, 41765, 42175, 44270, 45155, 47980, 49910}\n",
    "courses = [21580,13060,75425,36615,21620,87130,89100,42175,15175,59655,45255,47980,71395,38280,41765,64420,46275,26530,82805,41765,10765,50155,48330,25495,14785,22810,26130,34300,44270,19380,48800,34160,41765,45155,11065,18405,76225,63900,41765,82380,69325,65030,70015,65330,45155,80025,35565,78910,65865,41450,36605,92645,42175,71965,35565,35650,66720,42175,91460,29905,32070,79040,45945,77860,41205,90125,87940,51830,72940,52970,34860,14045,69480,58735,45155,66475,28965,57575,41575,20450,64015,39335,35565,41765,68500,61635,78625,63910,26735,42175,47980,30195,36875,10515,35565,39815,38745,64815,87785,46580]\n"
   ]
  },
  {
   "cell_type": "markdown",
   "metadata": {},
   "source": [
    "## Bonus Question\n",
    "For your class project, you will need to select one (or more) data source(s) and perform some form of analysis on those data using python. For this bonus (i.e. optional) question, find up to three sources of online data that you *could* potentially use for your project. This isn't a commitment to use them, but a way to start thinking about it. You will receive three (3) bonus points per acceptable site, up to three sites. If you provide three acceptable sites, you will receive an extra point for your trifecta (ten points total).\n",
    "\n",
    "**Example:** https://data.austintexas.gov/ - a data portal for City of Austin public data, which contains a map of found pets. I could use this to analyze whether certain areas of the city (neighborhood, council district, etc) have a greater incidence of pet recovery (as a model for pet loss)"
   ]
  },
  {
   "cell_type": "markdown",
   "metadata": {},
   "source": [
    "*(provide your URLs and a short description of each site and why you chose it here)*"
   ]
  }
 ],
 "metadata": {
  "kernelspec": {
   "display_name": "Python 3",
   "language": "python",
   "name": "python3"
  },
  "language_info": {
   "codemirror_mode": {
    "name": "ipython",
    "version": 3
   },
   "file_extension": ".py",
   "mimetype": "text/x-python",
   "name": "python",
   "nbconvert_exporter": "python",
   "pygments_lexer": "ipython3",
   "version": "3.7.6"
  }
 },
 "nbformat": 4,
 "nbformat_minor": 2
}
